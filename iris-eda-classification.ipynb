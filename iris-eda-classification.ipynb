{
 "cells": [
  {
   "cell_type": "markdown",
   "id": "e22ff6da",
   "metadata": {
    "papermill": {
     "duration": 0.013548,
     "end_time": "2022-06-09T02:16:35.553560",
     "exception": false,
     "start_time": "2022-06-09T02:16:35.540012",
     "status": "completed"
    },
    "tags": []
   },
   "source": [
    "# Simple iris flower dataset for exploration and classification"
   ]
  },
  {
   "cell_type": "markdown",
   "id": "8040f4be",
   "metadata": {
    "papermill": {
     "duration": 0.012055,
     "end_time": "2022-06-09T02:16:35.578316",
     "exception": false,
     "start_time": "2022-06-09T02:16:35.566261",
     "status": "completed"
    },
    "tags": []
   },
   "source": [
    "## Iris species classification"
   ]
  },
  {
   "cell_type": "code",
   "execution_count": 1,
   "id": "65e74020",
   "metadata": {
    "_cell_guid": "b1076dfc-b9ad-4769-8c92-a6c4dae69d19",
    "_uuid": "8f2839f25d086af736a60e9eeb907d3b93b6e0e5",
    "execution": {
     "iopub.execute_input": "2022-06-09T02:16:35.609437Z",
     "iopub.status.busy": "2022-06-09T02:16:35.608139Z",
     "iopub.status.idle": "2022-06-09T02:16:36.761781Z",
     "shell.execute_reply": "2022-06-09T02:16:36.760646Z"
    },
    "papermill": {
     "duration": 1.17356,
     "end_time": "2022-06-09T02:16:36.764485",
     "exception": false,
     "start_time": "2022-06-09T02:16:35.590925",
     "status": "completed"
    },
    "tags": []
   },
   "outputs": [],
   "source": [
    "import numpy as np \n",
    "import pandas as pd\n",
    "import matplotlib.pyplot as plt\n",
    "import seaborn as sns"
   ]
  },
  {
   "cell_type": "code",
   "execution_count": 2,
   "id": "b36b1545",
   "metadata": {
    "execution": {
     "iopub.execute_input": "2022-06-09T02:16:36.792230Z",
     "iopub.status.busy": "2022-06-09T02:16:36.791223Z",
     "iopub.status.idle": "2022-06-09T02:16:36.804946Z",
     "shell.execute_reply": "2022-06-09T02:16:36.803947Z"
    },
    "papermill": {
     "duration": 0.031424,
     "end_time": "2022-06-09T02:16:36.809058",
     "exception": false,
     "start_time": "2022-06-09T02:16:36.777634",
     "status": "completed"
    },
    "tags": []
   },
   "outputs": [
    {
     "name": "stdout",
     "output_type": "stream",
     "text": [
      "/kaggle/input/iris-flower-dataset/IRIS.csv\n"
     ]
    }
   ],
   "source": [
    "# Input data files are available in the read-only \"../input/\" directory\n",
    "# For example, running this (by clicking run or pressing Shift+Enter) will list all files under the input directory\n",
    "\n",
    "import os\n",
    "for dirname, _, filenames in os.walk('/kaggle/input'):\n",
    "    for filename in filenames:\n",
    "        print(os.path.join(dirname, filename))\n",
    "\n",
    "# You can write up to 20GB to the current directory (/kaggle/working/) that gets preserved as output when you create a version using \"Save & Run All\" \n",
    "# You can also write temporary files to /kaggle/temp/, but they won't be saved outside of the current session"
   ]
  },
  {
   "cell_type": "code",
   "execution_count": 3,
   "id": "b8e050df",
   "metadata": {
    "execution": {
     "iopub.execute_input": "2022-06-09T02:16:36.836806Z",
     "iopub.status.busy": "2022-06-09T02:16:36.836115Z",
     "iopub.status.idle": "2022-06-09T02:16:36.852584Z",
     "shell.execute_reply": "2022-06-09T02:16:36.851778Z"
    },
    "papermill": {
     "duration": 0.032403,
     "end_time": "2022-06-09T02:16:36.854857",
     "exception": false,
     "start_time": "2022-06-09T02:16:36.822454",
     "status": "completed"
    },
    "tags": []
   },
   "outputs": [],
   "source": [
    "df = pd.read_csv('../input/iris-flower-dataset/IRIS.csv')"
   ]
  },
  {
   "cell_type": "code",
   "execution_count": 4,
   "id": "42c34359",
   "metadata": {
    "execution": {
     "iopub.execute_input": "2022-06-09T02:16:36.882078Z",
     "iopub.status.busy": "2022-06-09T02:16:36.881476Z",
     "iopub.status.idle": "2022-06-09T02:16:36.908857Z",
     "shell.execute_reply": "2022-06-09T02:16:36.907660Z"
    },
    "papermill": {
     "duration": 0.04404,
     "end_time": "2022-06-09T02:16:36.911952",
     "exception": false,
     "start_time": "2022-06-09T02:16:36.867912",
     "status": "completed"
    },
    "tags": []
   },
   "outputs": [
    {
     "name": "stdout",
     "output_type": "stream",
     "text": [
      "<class 'pandas.core.frame.DataFrame'>\n",
      "RangeIndex: 150 entries, 0 to 149\n",
      "Data columns (total 5 columns):\n",
      " #   Column        Non-Null Count  Dtype  \n",
      "---  ------        --------------  -----  \n",
      " 0   sepal_length  150 non-null    float64\n",
      " 1   sepal_width   150 non-null    float64\n",
      " 2   petal_length  150 non-null    float64\n",
      " 3   petal_width   150 non-null    float64\n",
      " 4   species       150 non-null    object \n",
      "dtypes: float64(4), object(1)\n",
      "memory usage: 6.0+ KB\n"
     ]
    }
   ],
   "source": [
    "df.info()"
   ]
  },
  {
   "cell_type": "code",
   "execution_count": 5,
   "id": "3126a478",
   "metadata": {
    "execution": {
     "iopub.execute_input": "2022-06-09T02:16:36.939407Z",
     "iopub.status.busy": "2022-06-09T02:16:36.938664Z",
     "iopub.status.idle": "2022-06-09T02:16:36.971882Z",
     "shell.execute_reply": "2022-06-09T02:16:36.970824Z"
    },
    "papermill": {
     "duration": 0.049679,
     "end_time": "2022-06-09T02:16:36.974676",
     "exception": false,
     "start_time": "2022-06-09T02:16:36.924997",
     "status": "completed"
    },
    "tags": []
   },
   "outputs": [
    {
     "data": {
      "text/html": [
       "<div>\n",
       "<style scoped>\n",
       "    .dataframe tbody tr th:only-of-type {\n",
       "        vertical-align: middle;\n",
       "    }\n",
       "\n",
       "    .dataframe tbody tr th {\n",
       "        vertical-align: top;\n",
       "    }\n",
       "\n",
       "    .dataframe thead th {\n",
       "        text-align: right;\n",
       "    }\n",
       "</style>\n",
       "<table border=\"1\" class=\"dataframe\">\n",
       "  <thead>\n",
       "    <tr style=\"text-align: right;\">\n",
       "      <th></th>\n",
       "      <th>sepal_length</th>\n",
       "      <th>sepal_width</th>\n",
       "      <th>petal_length</th>\n",
       "      <th>petal_width</th>\n",
       "    </tr>\n",
       "  </thead>\n",
       "  <tbody>\n",
       "    <tr>\n",
       "      <th>count</th>\n",
       "      <td>150.000000</td>\n",
       "      <td>150.000000</td>\n",
       "      <td>150.000000</td>\n",
       "      <td>150.000000</td>\n",
       "    </tr>\n",
       "    <tr>\n",
       "      <th>mean</th>\n",
       "      <td>5.843333</td>\n",
       "      <td>3.054000</td>\n",
       "      <td>3.758667</td>\n",
       "      <td>1.198667</td>\n",
       "    </tr>\n",
       "    <tr>\n",
       "      <th>std</th>\n",
       "      <td>0.828066</td>\n",
       "      <td>0.433594</td>\n",
       "      <td>1.764420</td>\n",
       "      <td>0.763161</td>\n",
       "    </tr>\n",
       "    <tr>\n",
       "      <th>min</th>\n",
       "      <td>4.300000</td>\n",
       "      <td>2.000000</td>\n",
       "      <td>1.000000</td>\n",
       "      <td>0.100000</td>\n",
       "    </tr>\n",
       "    <tr>\n",
       "      <th>25%</th>\n",
       "      <td>5.100000</td>\n",
       "      <td>2.800000</td>\n",
       "      <td>1.600000</td>\n",
       "      <td>0.300000</td>\n",
       "    </tr>\n",
       "    <tr>\n",
       "      <th>50%</th>\n",
       "      <td>5.800000</td>\n",
       "      <td>3.000000</td>\n",
       "      <td>4.350000</td>\n",
       "      <td>1.300000</td>\n",
       "    </tr>\n",
       "    <tr>\n",
       "      <th>75%</th>\n",
       "      <td>6.400000</td>\n",
       "      <td>3.300000</td>\n",
       "      <td>5.100000</td>\n",
       "      <td>1.800000</td>\n",
       "    </tr>\n",
       "    <tr>\n",
       "      <th>max</th>\n",
       "      <td>7.900000</td>\n",
       "      <td>4.400000</td>\n",
       "      <td>6.900000</td>\n",
       "      <td>2.500000</td>\n",
       "    </tr>\n",
       "  </tbody>\n",
       "</table>\n",
       "</div>"
      ],
      "text/plain": [
       "       sepal_length  sepal_width  petal_length  petal_width\n",
       "count    150.000000   150.000000    150.000000   150.000000\n",
       "mean       5.843333     3.054000      3.758667     1.198667\n",
       "std        0.828066     0.433594      1.764420     0.763161\n",
       "min        4.300000     2.000000      1.000000     0.100000\n",
       "25%        5.100000     2.800000      1.600000     0.300000\n",
       "50%        5.800000     3.000000      4.350000     1.300000\n",
       "75%        6.400000     3.300000      5.100000     1.800000\n",
       "max        7.900000     4.400000      6.900000     2.500000"
      ]
     },
     "execution_count": 5,
     "metadata": {},
     "output_type": "execute_result"
    }
   ],
   "source": [
    "df.describe()"
   ]
  },
  {
   "cell_type": "code",
   "execution_count": 6,
   "id": "df1d8d16",
   "metadata": {
    "execution": {
     "iopub.execute_input": "2022-06-09T02:16:37.002436Z",
     "iopub.status.busy": "2022-06-09T02:16:37.002029Z",
     "iopub.status.idle": "2022-06-09T02:16:37.014754Z",
     "shell.execute_reply": "2022-06-09T02:16:37.014031Z"
    },
    "papermill": {
     "duration": 0.029006,
     "end_time": "2022-06-09T02:16:37.016964",
     "exception": false,
     "start_time": "2022-06-09T02:16:36.987958",
     "status": "completed"
    },
    "tags": []
   },
   "outputs": [
    {
     "data": {
      "text/html": [
       "<div>\n",
       "<style scoped>\n",
       "    .dataframe tbody tr th:only-of-type {\n",
       "        vertical-align: middle;\n",
       "    }\n",
       "\n",
       "    .dataframe tbody tr th {\n",
       "        vertical-align: top;\n",
       "    }\n",
       "\n",
       "    .dataframe thead th {\n",
       "        text-align: right;\n",
       "    }\n",
       "</style>\n",
       "<table border=\"1\" class=\"dataframe\">\n",
       "  <thead>\n",
       "    <tr style=\"text-align: right;\">\n",
       "      <th></th>\n",
       "      <th>sepal_length</th>\n",
       "      <th>sepal_width</th>\n",
       "      <th>petal_length</th>\n",
       "      <th>petal_width</th>\n",
       "      <th>species</th>\n",
       "    </tr>\n",
       "  </thead>\n",
       "  <tbody>\n",
       "    <tr>\n",
       "      <th>0</th>\n",
       "      <td>5.1</td>\n",
       "      <td>3.5</td>\n",
       "      <td>1.4</td>\n",
       "      <td>0.2</td>\n",
       "      <td>Iris-setosa</td>\n",
       "    </tr>\n",
       "    <tr>\n",
       "      <th>1</th>\n",
       "      <td>4.9</td>\n",
       "      <td>3.0</td>\n",
       "      <td>1.4</td>\n",
       "      <td>0.2</td>\n",
       "      <td>Iris-setosa</td>\n",
       "    </tr>\n",
       "    <tr>\n",
       "      <th>2</th>\n",
       "      <td>4.7</td>\n",
       "      <td>3.2</td>\n",
       "      <td>1.3</td>\n",
       "      <td>0.2</td>\n",
       "      <td>Iris-setosa</td>\n",
       "    </tr>\n",
       "    <tr>\n",
       "      <th>3</th>\n",
       "      <td>4.6</td>\n",
       "      <td>3.1</td>\n",
       "      <td>1.5</td>\n",
       "      <td>0.2</td>\n",
       "      <td>Iris-setosa</td>\n",
       "    </tr>\n",
       "    <tr>\n",
       "      <th>4</th>\n",
       "      <td>5.0</td>\n",
       "      <td>3.6</td>\n",
       "      <td>1.4</td>\n",
       "      <td>0.2</td>\n",
       "      <td>Iris-setosa</td>\n",
       "    </tr>\n",
       "  </tbody>\n",
       "</table>\n",
       "</div>"
      ],
      "text/plain": [
       "   sepal_length  sepal_width  petal_length  petal_width      species\n",
       "0           5.1          3.5           1.4          0.2  Iris-setosa\n",
       "1           4.9          3.0           1.4          0.2  Iris-setosa\n",
       "2           4.7          3.2           1.3          0.2  Iris-setosa\n",
       "3           4.6          3.1           1.5          0.2  Iris-setosa\n",
       "4           5.0          3.6           1.4          0.2  Iris-setosa"
      ]
     },
     "execution_count": 6,
     "metadata": {},
     "output_type": "execute_result"
    }
   ],
   "source": [
    "df.head()"
   ]
  },
  {
   "cell_type": "code",
   "execution_count": 7,
   "id": "c3966ed2",
   "metadata": {
    "execution": {
     "iopub.execute_input": "2022-06-09T02:16:37.045647Z",
     "iopub.status.busy": "2022-06-09T02:16:37.044793Z",
     "iopub.status.idle": "2022-06-09T02:16:37.059313Z",
     "shell.execute_reply": "2022-06-09T02:16:37.058282Z"
    },
    "papermill": {
     "duration": 0.03315,
     "end_time": "2022-06-09T02:16:37.063399",
     "exception": false,
     "start_time": "2022-06-09T02:16:37.030249",
     "status": "completed"
    },
    "tags": []
   },
   "outputs": [
    {
     "data": {
      "text/html": [
       "<div>\n",
       "<style scoped>\n",
       "    .dataframe tbody tr th:only-of-type {\n",
       "        vertical-align: middle;\n",
       "    }\n",
       "\n",
       "    .dataframe tbody tr th {\n",
       "        vertical-align: top;\n",
       "    }\n",
       "\n",
       "    .dataframe thead th {\n",
       "        text-align: right;\n",
       "    }\n",
       "</style>\n",
       "<table border=\"1\" class=\"dataframe\">\n",
       "  <thead>\n",
       "    <tr style=\"text-align: right;\">\n",
       "      <th></th>\n",
       "      <th>sepal_length</th>\n",
       "      <th>sepal_width</th>\n",
       "      <th>petal_length</th>\n",
       "      <th>petal_width</th>\n",
       "      <th>species</th>\n",
       "    </tr>\n",
       "  </thead>\n",
       "  <tbody>\n",
       "    <tr>\n",
       "      <th>145</th>\n",
       "      <td>6.7</td>\n",
       "      <td>3.0</td>\n",
       "      <td>5.2</td>\n",
       "      <td>2.3</td>\n",
       "      <td>Iris-virginica</td>\n",
       "    </tr>\n",
       "    <tr>\n",
       "      <th>146</th>\n",
       "      <td>6.3</td>\n",
       "      <td>2.5</td>\n",
       "      <td>5.0</td>\n",
       "      <td>1.9</td>\n",
       "      <td>Iris-virginica</td>\n",
       "    </tr>\n",
       "    <tr>\n",
       "      <th>147</th>\n",
       "      <td>6.5</td>\n",
       "      <td>3.0</td>\n",
       "      <td>5.2</td>\n",
       "      <td>2.0</td>\n",
       "      <td>Iris-virginica</td>\n",
       "    </tr>\n",
       "    <tr>\n",
       "      <th>148</th>\n",
       "      <td>6.2</td>\n",
       "      <td>3.4</td>\n",
       "      <td>5.4</td>\n",
       "      <td>2.3</td>\n",
       "      <td>Iris-virginica</td>\n",
       "    </tr>\n",
       "    <tr>\n",
       "      <th>149</th>\n",
       "      <td>5.9</td>\n",
       "      <td>3.0</td>\n",
       "      <td>5.1</td>\n",
       "      <td>1.8</td>\n",
       "      <td>Iris-virginica</td>\n",
       "    </tr>\n",
       "  </tbody>\n",
       "</table>\n",
       "</div>"
      ],
      "text/plain": [
       "     sepal_length  sepal_width  petal_length  petal_width         species\n",
       "145           6.7          3.0           5.2          2.3  Iris-virginica\n",
       "146           6.3          2.5           5.0          1.9  Iris-virginica\n",
       "147           6.5          3.0           5.2          2.0  Iris-virginica\n",
       "148           6.2          3.4           5.4          2.3  Iris-virginica\n",
       "149           5.9          3.0           5.1          1.8  Iris-virginica"
      ]
     },
     "execution_count": 7,
     "metadata": {},
     "output_type": "execute_result"
    }
   ],
   "source": [
    "df.tail()"
   ]
  },
  {
   "cell_type": "code",
   "execution_count": 8,
   "id": "f1110182",
   "metadata": {
    "execution": {
     "iopub.execute_input": "2022-06-09T02:16:37.093000Z",
     "iopub.status.busy": "2022-06-09T02:16:37.092040Z",
     "iopub.status.idle": "2022-06-09T02:16:37.099465Z",
     "shell.execute_reply": "2022-06-09T02:16:37.098786Z"
    },
    "papermill": {
     "duration": 0.023843,
     "end_time": "2022-06-09T02:16:37.101311",
     "exception": false,
     "start_time": "2022-06-09T02:16:37.077468",
     "status": "completed"
    },
    "tags": []
   },
   "outputs": [
    {
     "data": {
      "text/plain": [
       "Iris-setosa        50\n",
       "Iris-versicolor    50\n",
       "Iris-virginica     50\n",
       "Name: species, dtype: int64"
      ]
     },
     "execution_count": 8,
     "metadata": {},
     "output_type": "execute_result"
    }
   ],
   "source": [
    "df['species'].value_counts()"
   ]
  },
  {
   "cell_type": "code",
   "execution_count": 9,
   "id": "8e8a256c",
   "metadata": {
    "execution": {
     "iopub.execute_input": "2022-06-09T02:16:37.130907Z",
     "iopub.status.busy": "2022-06-09T02:16:37.130120Z",
     "iopub.status.idle": "2022-06-09T02:16:37.604979Z",
     "shell.execute_reply": "2022-06-09T02:16:37.603831Z"
    },
    "papermill": {
     "duration": 0.492086,
     "end_time": "2022-06-09T02:16:37.607161",
     "exception": false,
     "start_time": "2022-06-09T02:16:37.115075",
     "status": "completed"
    },
    "tags": []
   },
   "outputs": [
    {
     "data": {
      "text/plain": [
       "<seaborn.axisgrid.FacetGrid at 0x7fef26b5ad50>"
      ]
     },
     "execution_count": 9,
     "metadata": {},
     "output_type": "execute_result"
    },
    {
     "data": {
      "image/png": "[encoded data removed]",
      "text/plain": [
       "<Figure size 823.25x720 with 1 Axes>"
      ]
     },
     "metadata": {
      "needs_background": "light"
     },
     "output_type": "display_data"
    }
   ],
   "source": [
    "# scatter plot of sepal length by sepal width\n",
    "sns.FacetGrid(df, hue= 'species', height = 10) \\\n",
    "   .map(plt.scatter, 'sepal_length', 'sepal_width') \\\n",
    "   .add_legend()"
   ]
  },
  {
   "cell_type": "markdown",
   "id": "acd1c8a1",
   "metadata": {
    "papermill": {
     "duration": 0.014553,
     "end_time": "2022-06-09T02:16:37.636469",
     "exception": false,
     "start_time": "2022-06-09T02:16:37.621916",
     "status": "completed"
    },
    "tags": []
   },
   "source": [
    "## For the setosa species, the sepal length is usually much shorter than the other 2 species.\n",
    "## Additionally, the versicolor and virginica species have a lot of overlap with these 2 variables."
   ]
  },
  {
   "cell_type": "code",
   "execution_count": 10,
   "id": "39777647",
   "metadata": {
    "execution": {
     "iopub.execute_input": "2022-06-09T02:16:37.668094Z",
     "iopub.status.busy": "2022-06-09T02:16:37.667402Z",
     "iopub.status.idle": "2022-06-09T02:16:38.067675Z",
     "shell.execute_reply": "2022-06-09T02:16:38.066541Z"
    },
    "papermill": {
     "duration": 0.419072,
     "end_time": "2022-06-09T02:16:38.069923",
     "exception": false,
     "start_time": "2022-06-09T02:16:37.650851",
     "status": "completed"
    },
    "tags": []
   },
   "outputs": [
    {
     "data": {
      "text/plain": [
       "<seaborn.axisgrid.FacetGrid at 0x7fef26b5a810>"
      ]
     },
     "execution_count": 10,
     "metadata": {},
     "output_type": "execute_result"
    },
    {
     "data": {
      "image/png": "[encoded data removed]",
      "text/plain": [
       "<Figure size 823.25x720 with 1 Axes>"
      ]
     },
     "metadata": {
      "needs_background": "light"
     },
     "output_type": "display_data"
    }
   ],
   "source": [
    "# scatter plot of petal length by petal width\n",
    "sns.FacetGrid(df, hue= 'species', height = 10) \\\n",
    "   .map(plt.scatter, 'petal_length', 'petal_width') \\\n",
    "   .add_legend()"
   ]
  },
  {
   "cell_type": "markdown",
   "id": "55251d23",
   "metadata": {
    "papermill": {
     "duration": 0.014259,
     "end_time": "2022-06-09T02:16:38.098870",
     "exception": false,
     "start_time": "2022-06-09T02:16:38.084611",
     "status": "completed"
    },
    "tags": []
   },
   "source": [
    "## There is now a lot of separation between the species.  The setosa species has the smallets petals,\n",
    "## followed by the versicolor and virginica that have the largest petals."
   ]
  },
  {
   "cell_type": "code",
   "execution_count": 11,
   "id": "70e6afdf",
   "metadata": {
    "execution": {
     "iopub.execute_input": "2022-06-09T02:16:38.129655Z",
     "iopub.status.busy": "2022-06-09T02:16:38.129223Z",
     "iopub.status.idle": "2022-06-09T02:16:38.237934Z",
     "shell.execute_reply": "2022-06-09T02:16:38.236839Z"
    },
    "papermill": {
     "duration": 0.127928,
     "end_time": "2022-06-09T02:16:38.241282",
     "exception": false,
     "start_time": "2022-06-09T02:16:38.113354",
     "status": "completed"
    },
    "tags": []
   },
   "outputs": [
    {
     "data": {
      "image/png": "[encoded data removed]",
      "text/plain": [
       "<Figure size 720x504 with 1 Axes>"
      ]
     },
     "metadata": {},
     "output_type": "display_data"
    }
   ],
   "source": [
    "count_list = [(df.species == 'Iris-setosa').sum(), (df.species == 'Iris-versicolor').sum(), (df.species == 'Iris-virginica').sum()]\n",
    "label_list = list(df['species'].unique())\n",
    "plt.figure(figsize = (10, 7))\n",
    "plt.pie(count_list, labels = label_list, autopct = \"%.2f %%\", startangle = 90, explode = (0.1, 0.1, 0.0), textprops = {'fontsize': 12})\n",
    "plt.title('Distribution of Classes', fontsize = 20)\n",
    "plt.show()"
   ]
  },
  {
   "cell_type": "code",
   "execution_count": 12,
   "id": "5b8c9e0f",
   "metadata": {
    "execution": {
     "iopub.execute_input": "2022-06-09T02:16:38.298628Z",
     "iopub.status.busy": "2022-06-09T02:16:38.298228Z",
     "iopub.status.idle": "2022-06-09T02:16:38.908613Z",
     "shell.execute_reply": "2022-06-09T02:16:38.907634Z"
    },
    "papermill": {
     "duration": 0.641654,
     "end_time": "2022-06-09T02:16:38.910998",
     "exception": false,
     "start_time": "2022-06-09T02:16:38.269344",
     "status": "completed"
    },
    "tags": []
   },
   "outputs": [
    {
     "data": {
      "text/plain": [
       "<AxesSubplot:xlabel='species', ylabel='sepal_width'>"
      ]
     },
     "execution_count": 12,
     "metadata": {},
     "output_type": "execute_result"
    },
    {
     "data": {
      "image/png": "[encoded data removed]",
      "text/plain": [
       "<Figure size 1152x864 with 4 Axes>"
      ]
     },
     "metadata": {
      "needs_background": "light"
     },
     "output_type": "display_data"
    }
   ],
   "source": [
    "# Look at boxplots of the data.\n",
    "plt.figure(figsize=(16,12))\n",
    "plt.subplot(2,2,1)\n",
    "sns.boxplot(x='species',y='petal_length',data=df)\n",
    "plt.subplot(2,2,2)\n",
    "sns.boxplot(x='species',y='petal_width',data=df)\n",
    "plt.subplot(2,2,3)\n",
    "sns.boxplot(x='species',y='sepal_length',data=df)\n",
    "plt.subplot(2,2,4)\n",
    "sns.boxplot(x='species',y='sepal_width',data=df)"
   ]
  },
  {
   "cell_type": "markdown",
   "id": "5557cf97",
   "metadata": {
    "papermill": {
     "duration": 0.015816,
     "end_time": "2022-06-09T02:16:38.943090",
     "exception": false,
     "start_time": "2022-06-09T02:16:38.927274",
     "status": "completed"
    },
    "tags": []
   },
   "source": [
    "## May be easier to see the trends across species by the 4 variables with 4 boxplots."
   ]
  },
  {
   "cell_type": "markdown",
   "id": "8fd145bc",
   "metadata": {
    "papermill": {
     "duration": 0.015519,
     "end_time": "2022-06-09T02:16:38.974575",
     "exception": false,
     "start_time": "2022-06-09T02:16:38.959056",
     "status": "completed"
    },
    "tags": []
   },
   "source": [
    "## Create some features"
   ]
  },
  {
   "cell_type": "code",
   "execution_count": 13,
   "id": "0d2db7de",
   "metadata": {
    "execution": {
     "iopub.execute_input": "2022-06-09T02:16:39.008426Z",
     "iopub.status.busy": "2022-06-09T02:16:39.007751Z",
     "iopub.status.idle": "2022-06-09T02:16:39.011407Z",
     "shell.execute_reply": "2022-06-09T02:16:39.010711Z"
    },
    "papermill": {
     "duration": 0.02306,
     "end_time": "2022-06-09T02:16:39.013408",
     "exception": false,
     "start_time": "2022-06-09T02:16:38.990348",
     "status": "completed"
    },
    "tags": []
   },
   "outputs": [],
   "source": [
    "# categorize flowers as small (0), medium (1), or big (2)"
   ]
  },
  {
   "cell_type": "code",
   "execution_count": 14,
   "id": "1793fd9b",
   "metadata": {
    "execution": {
     "iopub.execute_input": "2022-06-09T02:16:39.047191Z",
     "iopub.status.busy": "2022-06-09T02:16:39.046781Z",
     "iopub.status.idle": "2022-06-09T02:16:39.060676Z",
     "shell.execute_reply": "2022-06-09T02:16:39.059635Z"
    },
    "papermill": {
     "duration": 0.033673,
     "end_time": "2022-06-09T02:16:39.062993",
     "exception": false,
     "start_time": "2022-06-09T02:16:39.029320",
     "status": "completed"
    },
    "tags": []
   },
   "outputs": [
    {
     "data": {
      "text/html": [
       "<div>\n",
       "<style scoped>\n",
       "    .dataframe tbody tr th:only-of-type {\n",
       "        vertical-align: middle;\n",
       "    }\n",
       "\n",
       "    .dataframe tbody tr th {\n",
       "        vertical-align: top;\n",
       "    }\n",
       "\n",
       "    .dataframe thead th {\n",
       "        text-align: right;\n",
       "    }\n",
       "</style>\n",
       "<table border=\"1\" class=\"dataframe\">\n",
       "  <thead>\n",
       "    <tr style=\"text-align: right;\">\n",
       "      <th></th>\n",
       "      <th>sepal_length</th>\n",
       "      <th>sepal_width</th>\n",
       "      <th>petal_length</th>\n",
       "      <th>petal_width</th>\n",
       "      <th>species</th>\n",
       "    </tr>\n",
       "  </thead>\n",
       "  <tbody>\n",
       "    <tr>\n",
       "      <th>0</th>\n",
       "      <td>5.1</td>\n",
       "      <td>3.5</td>\n",
       "      <td>1.4</td>\n",
       "      <td>0.2</td>\n",
       "      <td>Iris-setosa</td>\n",
       "    </tr>\n",
       "    <tr>\n",
       "      <th>1</th>\n",
       "      <td>4.9</td>\n",
       "      <td>3.0</td>\n",
       "      <td>1.4</td>\n",
       "      <td>0.2</td>\n",
       "      <td>Iris-setosa</td>\n",
       "    </tr>\n",
       "    <tr>\n",
       "      <th>2</th>\n",
       "      <td>4.7</td>\n",
       "      <td>3.2</td>\n",
       "      <td>1.3</td>\n",
       "      <td>0.2</td>\n",
       "      <td>Iris-setosa</td>\n",
       "    </tr>\n",
       "    <tr>\n",
       "      <th>3</th>\n",
       "      <td>4.6</td>\n",
       "      <td>3.1</td>\n",
       "      <td>1.5</td>\n",
       "      <td>0.2</td>\n",
       "      <td>Iris-setosa</td>\n",
       "    </tr>\n",
       "    <tr>\n",
       "      <th>4</th>\n",
       "      <td>5.0</td>\n",
       "      <td>3.6</td>\n",
       "      <td>1.4</td>\n",
       "      <td>0.2</td>\n",
       "      <td>Iris-setosa</td>\n",
       "    </tr>\n",
       "  </tbody>\n",
       "</table>\n",
       "</div>"
      ],
      "text/plain": [
       "   sepal_length  sepal_width  petal_length  petal_width      species\n",
       "0           5.1          3.5           1.4          0.2  Iris-setosa\n",
       "1           4.9          3.0           1.4          0.2  Iris-setosa\n",
       "2           4.7          3.2           1.3          0.2  Iris-setosa\n",
       "3           4.6          3.1           1.5          0.2  Iris-setosa\n",
       "4           5.0          3.6           1.4          0.2  Iris-setosa"
      ]
     },
     "execution_count": 14,
     "metadata": {},
     "output_type": "execute_result"
    }
   ],
   "source": [
    "df.head()"
   ]
  },
  {
   "cell_type": "code",
   "execution_count": 15,
   "id": "6a7f0540",
   "metadata": {
    "execution": {
     "iopub.execute_input": "2022-06-09T02:16:39.096302Z",
     "iopub.status.busy": "2022-06-09T02:16:39.095916Z",
     "iopub.status.idle": "2022-06-09T02:16:39.105762Z",
     "shell.execute_reply": "2022-06-09T02:16:39.104836Z"
    },
    "papermill": {
     "duration": 0.029164,
     "end_time": "2022-06-09T02:16:39.108070",
     "exception": false,
     "start_time": "2022-06-09T02:16:39.078906",
     "status": "completed"
    },
    "tags": []
   },
   "outputs": [
    {
     "data": {
      "text/plain": [
       "count    150.000000\n",
       "mean       5.843333\n",
       "std        0.828066\n",
       "min        4.300000\n",
       "25%        5.100000\n",
       "50%        5.800000\n",
       "75%        6.400000\n",
       "max        7.900000\n",
       "Name: sepal_length, dtype: float64"
      ]
     },
     "execution_count": 15,
     "metadata": {},
     "output_type": "execute_result"
    }
   ],
   "source": [
    "df['sepal_length'].describe()"
   ]
  },
  {
   "cell_type": "code",
   "execution_count": 16,
   "id": "05cdc063",
   "metadata": {
    "execution": {
     "iopub.execute_input": "2022-06-09T02:16:39.141667Z",
     "iopub.status.busy": "2022-06-09T02:16:39.141262Z",
     "iopub.status.idle": "2022-06-09T02:16:39.160503Z",
     "shell.execute_reply": "2022-06-09T02:16:39.159871Z"
    },
    "papermill": {
     "duration": 0.039014,
     "end_time": "2022-06-09T02:16:39.163041",
     "exception": false,
     "start_time": "2022-06-09T02:16:39.124027",
     "status": "completed"
    },
    "tags": []
   },
   "outputs": [
    {
     "name": "stdout",
     "output_type": "stream",
     "text": [
      "0      (4.296, 5.5]\n",
      "1      (4.296, 5.5]\n",
      "2      (4.296, 5.5]\n",
      "3      (4.296, 5.5]\n",
      "4      (4.296, 5.5]\n",
      "           ...     \n",
      "145      (5.5, 6.7]\n",
      "146      (5.5, 6.7]\n",
      "147      (5.5, 6.7]\n",
      "148      (5.5, 6.7]\n",
      "149      (5.5, 6.7]\n",
      "Name: sepal_length_CAT, Length: 150, dtype: category\n",
      "Categories (3, interval[float64, right]): [(4.296, 5.5] < (5.5, 6.7] < (6.7, 7.9]]\n"
     ]
    }
   ],
   "source": [
    "df['sepal_length_CAT'] = pd.cut(df['sepal_length'], 3)\n",
    "print(df['sepal_length_CAT'])"
   ]
  },
  {
   "cell_type": "code",
   "execution_count": 17,
   "id": "5635299c",
   "metadata": {
    "execution": {
     "iopub.execute_input": "2022-06-09T02:16:39.197134Z",
     "iopub.status.busy": "2022-06-09T02:16:39.196711Z",
     "iopub.status.idle": "2022-06-09T02:16:39.207172Z",
     "shell.execute_reply": "2022-06-09T02:16:39.206073Z"
    },
    "papermill": {
     "duration": 0.030072,
     "end_time": "2022-06-09T02:16:39.209501",
     "exception": false,
     "start_time": "2022-06-09T02:16:39.179429",
     "status": "completed"
    },
    "tags": []
   },
   "outputs": [
    {
     "data": {
      "text/plain": [
       "count    150.000000\n",
       "mean       3.054000\n",
       "std        0.433594\n",
       "min        2.000000\n",
       "25%        2.800000\n",
       "50%        3.000000\n",
       "75%        3.300000\n",
       "max        4.400000\n",
       "Name: sepal_width, dtype: float64"
      ]
     },
     "execution_count": 17,
     "metadata": {},
     "output_type": "execute_result"
    }
   ],
   "source": [
    "df['sepal_width'].describe()"
   ]
  },
  {
   "cell_type": "code",
   "execution_count": 18,
   "id": "dc91552d",
   "metadata": {
    "execution": {
     "iopub.execute_input": "2022-06-09T02:16:39.243590Z",
     "iopub.status.busy": "2022-06-09T02:16:39.243213Z",
     "iopub.status.idle": "2022-06-09T02:16:39.255373Z",
     "shell.execute_reply": "2022-06-09T02:16:39.254548Z"
    },
    "papermill": {
     "duration": 0.032323,
     "end_time": "2022-06-09T02:16:39.258114",
     "exception": false,
     "start_time": "2022-06-09T02:16:39.225791",
     "status": "completed"
    },
    "tags": []
   },
   "outputs": [
    {
     "name": "stdout",
     "output_type": "stream",
     "text": [
      "0        (2.8, 3.6]\n",
      "1        (2.8, 3.6]\n",
      "2        (2.8, 3.6]\n",
      "3        (2.8, 3.6]\n",
      "4        (2.8, 3.6]\n",
      "           ...     \n",
      "145      (2.8, 3.6]\n",
      "146    (1.998, 2.8]\n",
      "147      (2.8, 3.6]\n",
      "148      (2.8, 3.6]\n",
      "149      (2.8, 3.6]\n",
      "Name: sepal_width_CAT, Length: 150, dtype: category\n",
      "Categories (3, interval[float64, right]): [(1.998, 2.8] < (2.8, 3.6] < (3.6, 4.4]]\n"
     ]
    }
   ],
   "source": [
    "df['sepal_width_CAT'] = pd.cut(df['sepal_width'], 3)\n",
    "print(df['sepal_width_CAT'])"
   ]
  },
  {
   "cell_type": "code",
   "execution_count": 19,
   "id": "41579028",
   "metadata": {
    "execution": {
     "iopub.execute_input": "2022-06-09T02:16:39.293053Z",
     "iopub.status.busy": "2022-06-09T02:16:39.292330Z",
     "iopub.status.idle": "2022-06-09T02:16:39.302505Z",
     "shell.execute_reply": "2022-06-09T02:16:39.301597Z"
    },
    "papermill": {
     "duration": 0.029285,
     "end_time": "2022-06-09T02:16:39.304445",
     "exception": false,
     "start_time": "2022-06-09T02:16:39.275160",
     "status": "completed"
    },
    "tags": []
   },
   "outputs": [
    {
     "data": {
      "text/plain": [
       "count    150.000000\n",
       "mean       3.758667\n",
       "std        1.764420\n",
       "min        1.000000\n",
       "25%        1.600000\n",
       "50%        4.350000\n",
       "75%        5.100000\n",
       "max        6.900000\n",
       "Name: petal_length, dtype: float64"
      ]
     },
     "execution_count": 19,
     "metadata": {},
     "output_type": "execute_result"
    }
   ],
   "source": [
    "df['petal_length'].describe()"
   ]
  },
  {
   "cell_type": "code",
   "execution_count": 20,
   "id": "d78d302b",
   "metadata": {
    "execution": {
     "iopub.execute_input": "2022-06-09T02:16:39.338826Z",
     "iopub.status.busy": "2022-06-09T02:16:39.338229Z",
     "iopub.status.idle": "2022-06-09T02:16:39.349027Z",
     "shell.execute_reply": "2022-06-09T02:16:39.348064Z"
    },
    "papermill": {
     "duration": 0.031144,
     "end_time": "2022-06-09T02:16:39.351659",
     "exception": false,
     "start_time": "2022-06-09T02:16:39.320515",
     "status": "completed"
    },
    "tags": []
   },
   "outputs": [
    {
     "name": "stdout",
     "output_type": "stream",
     "text": [
      "0      (0.994, 2.967]\n",
      "1      (0.994, 2.967]\n",
      "2      (0.994, 2.967]\n",
      "3      (0.994, 2.967]\n",
      "4      (0.994, 2.967]\n",
      "            ...      \n",
      "145      (4.933, 6.9]\n",
      "146      (4.933, 6.9]\n",
      "147      (4.933, 6.9]\n",
      "148      (4.933, 6.9]\n",
      "149      (4.933, 6.9]\n",
      "Name: petal_length_CAT, Length: 150, dtype: category\n",
      "Categories (3, interval[float64, right]): [(0.994, 2.967] < (2.967, 4.933] < (4.933, 6.9]]\n"
     ]
    }
   ],
   "source": [
    "df['petal_length_CAT'] = pd.cut(df['petal_length'], 3)\n",
    "print(df['petal_length_CAT'])"
   ]
  },
  {
   "cell_type": "code",
   "execution_count": 21,
   "id": "8ac0d435",
   "metadata": {
    "execution": {
     "iopub.execute_input": "2022-06-09T02:16:39.390366Z",
     "iopub.status.busy": "2022-06-09T02:16:39.389713Z",
     "iopub.status.idle": "2022-06-09T02:16:39.400278Z",
     "shell.execute_reply": "2022-06-09T02:16:39.399126Z"
    },
    "papermill": {
     "duration": 0.032187,
     "end_time": "2022-06-09T02:16:39.402537",
     "exception": false,
     "start_time": "2022-06-09T02:16:39.370350",
     "status": "completed"
    },
    "tags": []
   },
   "outputs": [
    {
     "data": {
      "text/plain": [
       "count    150.000000\n",
       "mean       1.198667\n",
       "std        0.763161\n",
       "min        0.100000\n",
       "25%        0.300000\n",
       "50%        1.300000\n",
       "75%        1.800000\n",
       "max        2.500000\n",
       "Name: petal_width, dtype: float64"
      ]
     },
     "execution_count": 21,
     "metadata": {},
     "output_type": "execute_result"
    }
   ],
   "source": [
    "df['petal_width'].describe()"
   ]
  },
  {
   "cell_type": "code",
   "execution_count": 22,
   "id": "171512ca",
   "metadata": {
    "execution": {
     "iopub.execute_input": "2022-06-09T02:16:39.437850Z",
     "iopub.status.busy": "2022-06-09T02:16:39.437398Z",
     "iopub.status.idle": "2022-06-09T02:16:39.449189Z",
     "shell.execute_reply": "2022-06-09T02:16:39.448245Z"
    },
    "papermill": {
     "duration": 0.03222,
     "end_time": "2022-06-09T02:16:39.451748",
     "exception": false,
     "start_time": "2022-06-09T02:16:39.419528",
     "status": "completed"
    },
    "tags": []
   },
   "outputs": [
    {
     "name": "stdout",
     "output_type": "stream",
     "text": [
      "0      (0.0976, 0.9]\n",
      "1      (0.0976, 0.9]\n",
      "2      (0.0976, 0.9]\n",
      "3      (0.0976, 0.9]\n",
      "4      (0.0976, 0.9]\n",
      "           ...      \n",
      "145       (1.7, 2.5]\n",
      "146       (1.7, 2.5]\n",
      "147       (1.7, 2.5]\n",
      "148       (1.7, 2.5]\n",
      "149       (1.7, 2.5]\n",
      "Name: petal_width_CAT, Length: 150, dtype: category\n",
      "Categories (3, interval[float64, right]): [(0.0976, 0.9] < (0.9, 1.7] < (1.7, 2.5]]\n"
     ]
    }
   ],
   "source": [
    "df['petal_width_CAT'] = pd.cut(df['petal_width'], 3)\n",
    "print(df['petal_width_CAT'])"
   ]
  },
  {
   "cell_type": "code",
   "execution_count": 23,
   "id": "a805a153",
   "metadata": {
    "execution": {
     "iopub.execute_input": "2022-06-09T02:16:39.487135Z",
     "iopub.status.busy": "2022-06-09T02:16:39.486372Z",
     "iopub.status.idle": "2022-06-09T02:16:39.494679Z",
     "shell.execute_reply": "2022-06-09T02:16:39.493947Z"
    },
    "papermill": {
     "duration": 0.030907,
     "end_time": "2022-06-09T02:16:39.499372",
     "exception": false,
     "start_time": "2022-06-09T02:16:39.468465",
     "status": "completed"
    },
    "tags": []
   },
   "outputs": [
    {
     "name": "stdout",
     "output_type": "stream",
     "text": [
      "0       0.28\n",
      "1       0.28\n",
      "2       0.26\n",
      "3       0.30\n",
      "4       0.28\n",
      "       ...  \n",
      "145    11.96\n",
      "146     9.50\n",
      "147    10.40\n",
      "148    12.42\n",
      "149     9.18\n",
      "Name: petal_area, Length: 150, dtype: float64\n"
     ]
    }
   ],
   "source": [
    "df['petal_area'] = df['petal_width']*df['petal_length']\n",
    "print(df['petal_area'])"
   ]
  },
  {
   "cell_type": "code",
   "execution_count": 24,
   "id": "11d238f1",
   "metadata": {
    "execution": {
     "iopub.execute_input": "2022-06-09T02:16:39.535767Z",
     "iopub.status.busy": "2022-06-09T02:16:39.535047Z",
     "iopub.status.idle": "2022-06-09T02:16:39.542657Z",
     "shell.execute_reply": "2022-06-09T02:16:39.541833Z"
    },
    "papermill": {
     "duration": 0.0281,
     "end_time": "2022-06-09T02:16:39.545271",
     "exception": false,
     "start_time": "2022-06-09T02:16:39.517171",
     "status": "completed"
    },
    "tags": []
   },
   "outputs": [
    {
     "name": "stdout",
     "output_type": "stream",
     "text": [
      "0      17.85\n",
      "1      14.70\n",
      "2      15.04\n",
      "3      14.26\n",
      "4      18.00\n",
      "       ...  \n",
      "145    20.10\n",
      "146    15.75\n",
      "147    19.50\n",
      "148    21.08\n",
      "149    17.70\n",
      "Name: sepal_area, Length: 150, dtype: float64\n"
     ]
    }
   ],
   "source": [
    "df['sepal_area'] = df['sepal_width']*df['sepal_length']\n",
    "print(df['sepal_area'])"
   ]
  },
  {
   "cell_type": "code",
   "execution_count": 25,
   "id": "49f4a531",
   "metadata": {
    "execution": {
     "iopub.execute_input": "2022-06-09T02:16:39.581572Z",
     "iopub.status.busy": "2022-06-09T02:16:39.580574Z",
     "iopub.status.idle": "2022-06-09T02:16:39.596161Z",
     "shell.execute_reply": "2022-06-09T02:16:39.594319Z"
    },
    "papermill": {
     "duration": 0.036067,
     "end_time": "2022-06-09T02:16:39.598788",
     "exception": false,
     "start_time": "2022-06-09T02:16:39.562721",
     "status": "completed"
    },
    "tags": []
   },
   "outputs": [
    {
     "name": "stdout",
     "output_type": "stream",
     "text": [
      "<class 'pandas.core.frame.DataFrame'>\n",
      "RangeIndex: 150 entries, 0 to 149\n",
      "Data columns (total 11 columns):\n",
      " #   Column            Non-Null Count  Dtype   \n",
      "---  ------            --------------  -----   \n",
      " 0   sepal_length      150 non-null    float64 \n",
      " 1   sepal_width       150 non-null    float64 \n",
      " 2   petal_length      150 non-null    float64 \n",
      " 3   petal_width       150 non-null    float64 \n",
      " 4   species           150 non-null    object  \n",
      " 5   sepal_length_CAT  150 non-null    category\n",
      " 6   sepal_width_CAT   150 non-null    category\n",
      " 7   petal_length_CAT  150 non-null    category\n",
      " 8   petal_width_CAT   150 non-null    category\n",
      " 9   petal_area        150 non-null    float64 \n",
      " 10  sepal_area        150 non-null    float64 \n",
      "dtypes: category(4), float64(6), object(1)\n",
      "memory usage: 9.5+ KB\n"
     ]
    }
   ],
   "source": [
    "df.info()"
   ]
  },
  {
   "cell_type": "markdown",
   "id": "9afaa65b",
   "metadata": {
    "papermill": {
     "duration": 0.016427,
     "end_time": "2022-06-09T02:16:39.632403",
     "exception": false,
     "start_time": "2022-06-09T02:16:39.615976",
     "status": "completed"
    },
    "tags": []
   },
   "source": [
    "## species is still the target but we've now got some engineered features.\n",
    "## let's turn our species target into a numerical category code:"
   ]
  },
  {
   "cell_type": "code",
   "execution_count": 26,
   "id": "fb389769",
   "metadata": {
    "execution": {
     "iopub.execute_input": "2022-06-09T02:16:39.669258Z",
     "iopub.status.busy": "2022-06-09T02:16:39.668845Z",
     "iopub.status.idle": "2022-06-09T02:16:39.674996Z",
     "shell.execute_reply": "2022-06-09T02:16:39.673955Z"
    },
    "papermill": {
     "duration": 0.027826,
     "end_time": "2022-06-09T02:16:39.677075",
     "exception": false,
     "start_time": "2022-06-09T02:16:39.649249",
     "status": "completed"
    },
    "tags": []
   },
   "outputs": [],
   "source": [
    "df['species'] = df['species'].astype('category').cat.codes # factorize the response\n",
    "## could do this instead to encode the response as label:\n",
    "# label_encoder = LabelEncoder()\n",
    "# y = label_encoder.fit_transform(y)"
   ]
  },
  {
   "cell_type": "code",
   "execution_count": 27,
   "id": "0d1f5235",
   "metadata": {
    "execution": {
     "iopub.execute_input": "2022-06-09T02:16:39.713440Z",
     "iopub.status.busy": "2022-06-09T02:16:39.712714Z",
     "iopub.status.idle": "2022-06-09T02:16:39.721387Z",
     "shell.execute_reply": "2022-06-09T02:16:39.720556Z"
    },
    "papermill": {
     "duration": 0.029297,
     "end_time": "2022-06-09T02:16:39.723642",
     "exception": false,
     "start_time": "2022-06-09T02:16:39.694345",
     "status": "completed"
    },
    "tags": []
   },
   "outputs": [],
   "source": [
    "# let's also factorize the intervals\n",
    "df['sepal_length_CAT'] = df['sepal_length_CAT'].astype('category').cat.codes\n",
    "df['sepal_width_CAT'] = df['sepal_width_CAT'].astype('category').cat.codes\n",
    "df['petal_length_CAT'] = df['petal_length_CAT'].astype('category').cat.codes\n",
    "df['petal_width_CAT'] = df['petal_width_CAT'].astype('category').cat.codes\n"
   ]
  },
  {
   "cell_type": "code",
   "execution_count": 28,
   "id": "d2acc5df",
   "metadata": {
    "execution": {
     "iopub.execute_input": "2022-06-09T02:16:39.760485Z",
     "iopub.status.busy": "2022-06-09T02:16:39.759792Z",
     "iopub.status.idle": "2022-06-09T02:16:39.773760Z",
     "shell.execute_reply": "2022-06-09T02:16:39.772630Z"
    },
    "papermill": {
     "duration": 0.035606,
     "end_time": "2022-06-09T02:16:39.776178",
     "exception": false,
     "start_time": "2022-06-09T02:16:39.740572",
     "status": "completed"
    },
    "tags": []
   },
   "outputs": [
    {
     "name": "stdout",
     "output_type": "stream",
     "text": [
      "<class 'pandas.core.frame.DataFrame'>\n",
      "RangeIndex: 150 entries, 0 to 149\n",
      "Data columns (total 11 columns):\n",
      " #   Column            Non-Null Count  Dtype  \n",
      "---  ------            --------------  -----  \n",
      " 0   sepal_length      150 non-null    float64\n",
      " 1   sepal_width       150 non-null    float64\n",
      " 2   petal_length      150 non-null    float64\n",
      " 3   petal_width       150 non-null    float64\n",
      " 4   species           150 non-null    int8   \n",
      " 5   sepal_length_CAT  150 non-null    int8   \n",
      " 6   sepal_width_CAT   150 non-null    int8   \n",
      " 7   petal_length_CAT  150 non-null    int8   \n",
      " 8   petal_width_CAT   150 non-null    int8   \n",
      " 9   petal_area        150 non-null    float64\n",
      " 10  sepal_area        150 non-null    float64\n",
      "dtypes: float64(6), int8(5)\n",
      "memory usage: 7.9 KB\n"
     ]
    }
   ],
   "source": [
    "df.info()"
   ]
  },
  {
   "cell_type": "code",
   "execution_count": 29,
   "id": "c3ce9947",
   "metadata": {
    "execution": {
     "iopub.execute_input": "2022-06-09T02:16:39.813133Z",
     "iopub.status.busy": "2022-06-09T02:16:39.812703Z",
     "iopub.status.idle": "2022-06-09T02:16:39.828668Z",
     "shell.execute_reply": "2022-06-09T02:16:39.827550Z"
    },
    "papermill": {
     "duration": 0.036726,
     "end_time": "2022-06-09T02:16:39.830960",
     "exception": false,
     "start_time": "2022-06-09T02:16:39.794234",
     "status": "completed"
    },
    "tags": []
   },
   "outputs": [
    {
     "data": {
      "text/html": [
       "<div>\n",
       "<style scoped>\n",
       "    .dataframe tbody tr th:only-of-type {\n",
       "        vertical-align: middle;\n",
       "    }\n",
       "\n",
       "    .dataframe tbody tr th {\n",
       "        vertical-align: top;\n",
       "    }\n",
       "\n",
       "    .dataframe thead th {\n",
       "        text-align: right;\n",
       "    }\n",
       "</style>\n",
       "<table border=\"1\" class=\"dataframe\">\n",
       "  <thead>\n",
       "    <tr style=\"text-align: right;\">\n",
       "      <th></th>\n",
       "      <th>sepal_length</th>\n",
       "      <th>sepal_width</th>\n",
       "      <th>petal_length</th>\n",
       "      <th>petal_width</th>\n",
       "      <th>species</th>\n",
       "      <th>sepal_length_CAT</th>\n",
       "      <th>sepal_width_CAT</th>\n",
       "      <th>petal_length_CAT</th>\n",
       "      <th>petal_width_CAT</th>\n",
       "      <th>petal_area</th>\n",
       "      <th>sepal_area</th>\n",
       "    </tr>\n",
       "  </thead>\n",
       "  <tbody>\n",
       "    <tr>\n",
       "      <th>0</th>\n",
       "      <td>5.1</td>\n",
       "      <td>3.5</td>\n",
       "      <td>1.4</td>\n",
       "      <td>0.2</td>\n",
       "      <td>0</td>\n",
       "      <td>0</td>\n",
       "      <td>1</td>\n",
       "      <td>0</td>\n",
       "      <td>0</td>\n",
       "      <td>0.28</td>\n",
       "      <td>17.85</td>\n",
       "    </tr>\n",
       "    <tr>\n",
       "      <th>1</th>\n",
       "      <td>4.9</td>\n",
       "      <td>3.0</td>\n",
       "      <td>1.4</td>\n",
       "      <td>0.2</td>\n",
       "      <td>0</td>\n",
       "      <td>0</td>\n",
       "      <td>1</td>\n",
       "      <td>0</td>\n",
       "      <td>0</td>\n",
       "      <td>0.28</td>\n",
       "      <td>14.70</td>\n",
       "    </tr>\n",
       "    <tr>\n",
       "      <th>2</th>\n",
       "      <td>4.7</td>\n",
       "      <td>3.2</td>\n",
       "      <td>1.3</td>\n",
       "      <td>0.2</td>\n",
       "      <td>0</td>\n",
       "      <td>0</td>\n",
       "      <td>1</td>\n",
       "      <td>0</td>\n",
       "      <td>0</td>\n",
       "      <td>0.26</td>\n",
       "      <td>15.04</td>\n",
       "    </tr>\n",
       "  </tbody>\n",
       "</table>\n",
       "</div>"
      ],
      "text/plain": [
       "   sepal_length  sepal_width  petal_length  petal_width  species  \\\n",
       "0           5.1          3.5           1.4          0.2        0   \n",
       "1           4.9          3.0           1.4          0.2        0   \n",
       "2           4.7          3.2           1.3          0.2        0   \n",
       "\n",
       "   sepal_length_CAT  sepal_width_CAT  petal_length_CAT  petal_width_CAT  \\\n",
       "0                 0                1                 0                0   \n",
       "1                 0                1                 0                0   \n",
       "2                 0                1                 0                0   \n",
       "\n",
       "   petal_area  sepal_area  \n",
       "0        0.28       17.85  \n",
       "1        0.28       14.70  \n",
       "2        0.26       15.04  "
      ]
     },
     "execution_count": 29,
     "metadata": {},
     "output_type": "execute_result"
    }
   ],
   "source": [
    "df.head(3)"
   ]
  },
  {
   "cell_type": "code",
   "execution_count": 30,
   "id": "337cbdec",
   "metadata": {
    "execution": {
     "iopub.execute_input": "2022-06-09T02:16:39.868345Z",
     "iopub.status.busy": "2022-06-09T02:16:39.867929Z",
     "iopub.status.idle": "2022-06-09T02:16:39.885669Z",
     "shell.execute_reply": "2022-06-09T02:16:39.884481Z"
    },
    "papermill": {
     "duration": 0.039889,
     "end_time": "2022-06-09T02:16:39.888396",
     "exception": false,
     "start_time": "2022-06-09T02:16:39.848507",
     "status": "completed"
    },
    "tags": []
   },
   "outputs": [
    {
     "name": "stdout",
     "output_type": "stream",
     "text": [
      "     sepal_length  sepal_width  petal_length  petal_width  sepal_length_CAT  \\\n",
      "0             5.1          3.5           1.4          0.2                 0   \n",
      "1             4.9          3.0           1.4          0.2                 0   \n",
      "2             4.7          3.2           1.3          0.2                 0   \n",
      "3             4.6          3.1           1.5          0.2                 0   \n",
      "4             5.0          3.6           1.4          0.2                 0   \n",
      "..            ...          ...           ...          ...               ...   \n",
      "145           6.7          3.0           5.2          2.3                 1   \n",
      "146           6.3          2.5           5.0          1.9                 1   \n",
      "147           6.5          3.0           5.2          2.0                 1   \n",
      "148           6.2          3.4           5.4          2.3                 1   \n",
      "149           5.9          3.0           5.1          1.8                 1   \n",
      "\n",
      "     sepal_width_CAT  petal_length_CAT  petal_width_CAT  petal_area  \\\n",
      "0                  1                 0                0        0.28   \n",
      "1                  1                 0                0        0.28   \n",
      "2                  1                 0                0        0.26   \n",
      "3                  1                 0                0        0.30   \n",
      "4                  1                 0                0        0.28   \n",
      "..               ...               ...              ...         ...   \n",
      "145                1                 2                2       11.96   \n",
      "146                0                 2                2        9.50   \n",
      "147                1                 2                2       10.40   \n",
      "148                1                 2                2       12.42   \n",
      "149                1                 2                2        9.18   \n",
      "\n",
      "     sepal_area  \n",
      "0         17.85  \n",
      "1         14.70  \n",
      "2         15.04  \n",
      "3         14.26  \n",
      "4         18.00  \n",
      "..          ...  \n",
      "145       20.10  \n",
      "146       15.75  \n",
      "147       19.50  \n",
      "148       21.08  \n",
      "149       17.70  \n",
      "\n",
      "[150 rows x 10 columns] \n",
      "\n",
      " 0      0\n",
      "1      0\n",
      "2      0\n",
      "3      0\n",
      "4      0\n",
      "      ..\n",
      "145    2\n",
      "146    2\n",
      "147    2\n",
      "148    2\n",
      "149    2\n",
      "Name: species, Length: 150, dtype: int8\n"
     ]
    }
   ],
   "source": [
    "X = df.drop(['species'], axis=1)\n",
    "y = df['species']\n",
    "print(X, \"\\n\\n\", y)"
   ]
  },
  {
   "cell_type": "code",
   "execution_count": 31,
   "id": "5dbcafb5",
   "metadata": {
    "execution": {
     "iopub.execute_input": "2022-06-09T02:16:39.925922Z",
     "iopub.status.busy": "2022-06-09T02:16:39.925467Z",
     "iopub.status.idle": "2022-06-09T02:16:40.078618Z",
     "shell.execute_reply": "2022-06-09T02:16:40.077792Z"
    },
    "papermill": {
     "duration": 0.174416,
     "end_time": "2022-06-09T02:16:40.080965",
     "exception": false,
     "start_time": "2022-06-09T02:16:39.906549",
     "status": "completed"
    },
    "tags": []
   },
   "outputs": [],
   "source": [
    "from sklearn.preprocessing import StandardScaler"
   ]
  },
  {
   "cell_type": "code",
   "execution_count": 32,
   "id": "3cb5c748",
   "metadata": {
    "execution": {
     "iopub.execute_input": "2022-06-09T02:16:40.118960Z",
     "iopub.status.busy": "2022-06-09T02:16:40.118234Z",
     "iopub.status.idle": "2022-06-09T02:16:40.126321Z",
     "shell.execute_reply": "2022-06-09T02:16:40.125436Z"
    },
    "papermill": {
     "duration": 0.030113,
     "end_time": "2022-06-09T02:16:40.128648",
     "exception": false,
     "start_time": "2022-06-09T02:16:40.098535",
     "status": "completed"
    },
    "tags": []
   },
   "outputs": [],
   "source": [
    "scaler = StandardScaler()\n",
    "X = scaler.fit_transform(X)"
   ]
  },
  {
   "cell_type": "code",
   "execution_count": 33,
   "id": "2ae7d5b8",
   "metadata": {
    "execution": {
     "iopub.execute_input": "2022-06-09T02:16:40.165942Z",
     "iopub.status.busy": "2022-06-09T02:16:40.165247Z",
     "iopub.status.idle": "2022-06-09T02:16:40.231167Z",
     "shell.execute_reply": "2022-06-09T02:16:40.230158Z"
    },
    "papermill": {
     "duration": 0.08743,
     "end_time": "2022-06-09T02:16:40.233666",
     "exception": false,
     "start_time": "2022-06-09T02:16:40.146236",
     "status": "completed"
    },
    "tags": []
   },
   "outputs": [],
   "source": [
    "from sklearn.model_selection import train_test_split"
   ]
  },
  {
   "cell_type": "code",
   "execution_count": 34,
   "id": "c50b3681",
   "metadata": {
    "execution": {
     "iopub.execute_input": "2022-06-09T02:16:40.271418Z",
     "iopub.status.busy": "2022-06-09T02:16:40.270811Z",
     "iopub.status.idle": "2022-06-09T02:16:40.277110Z",
     "shell.execute_reply": "2022-06-09T02:16:40.276200Z"
    },
    "papermill": {
     "duration": 0.027498,
     "end_time": "2022-06-09T02:16:40.279098",
     "exception": false,
     "start_time": "2022-06-09T02:16:40.251600",
     "status": "completed"
    },
    "tags": []
   },
   "outputs": [],
   "source": [
    "X_train, X_test, y_train, y_test = train_test_split(X, y, test_size = 0.3, stratify = y, random_state = 22)"
   ]
  },
  {
   "cell_type": "markdown",
   "id": "695c8699",
   "metadata": {
    "papermill": {
     "duration": 0.017616,
     "end_time": "2022-06-09T02:16:40.314138",
     "exception": false,
     "start_time": "2022-06-09T02:16:40.296522",
     "status": "completed"
    },
    "tags": []
   },
   "source": [
    "# Classification Report"
   ]
  },
  {
   "cell_type": "markdown",
   "id": "bbc841f8",
   "metadata": {
    "papermill": {
     "duration": 0.017402,
     "end_time": "2022-06-09T02:16:40.349207",
     "exception": false,
     "start_time": "2022-06-09T02:16:40.331805",
     "status": "completed"
    },
    "tags": []
   },
   "source": [
    "> A classification report is a performance evaluation metric in machine learning. It is used to show the precision, recall, F1 Score, and support of your trained classification model. Some of the common terms associated with a classification report are as follows:\n",
    "\n",
    "> Precision: Precision is defined as the ratio of true positives to the sum of true and false positives.\n",
    "> Recall: Recall is defined as the ratio of true positives to the sum of true positives and false negatives.\n",
    "> F1 Score: The F1 Score is the weighted harmonic mean of precision and recall. The closer the value of the F1 score is to 1.0, the better the expected performance of the model is.\n",
    "Support: Support is the number of actual occurrences of the classes in the dataset. It doesn’t vary between models, it just diagnoses the performance evaluation process."
   ]
  },
  {
   "cell_type": "code",
   "execution_count": 35,
   "id": "c05be906",
   "metadata": {
    "execution": {
     "iopub.execute_input": "2022-06-09T02:16:40.386597Z",
     "iopub.status.busy": "2022-06-09T02:16:40.385965Z",
     "iopub.status.idle": "2022-06-09T02:16:40.393295Z",
     "shell.execute_reply": "2022-06-09T02:16:40.392318Z"
    },
    "papermill": {
     "duration": 0.028309,
     "end_time": "2022-06-09T02:16:40.395405",
     "exception": false,
     "start_time": "2022-06-09T02:16:40.367096",
     "status": "completed"
    },
    "tags": []
   },
   "outputs": [],
   "source": [
    "def generate_results(model, predictions, name):\n",
    "    cl_rep = classification_report(y_test, predictions)\n",
    "    print(\"\\nThe classification report for \" + name + \" is:\", cl_rep, sep = \"\\n\")\n",
    "    cm_model = confusion_matrix(y_test, predictions)\n",
    "    plt.figure(figsize = (8, 6))\n",
    "    sns.heatmap(cm_model, annot = True, cmap = 'Blues', annot_kws = {'size': 15}, square = True)\n",
    "    plt.title('Confusion Matrix for ' + name, size = 15)\n",
    "    plt.xticks(size = 15)\n",
    "    plt.yticks(size = 15)\n",
    "    plt.show()    "
   ]
  },
  {
   "cell_type": "markdown",
   "id": "2e555efc",
   "metadata": {
    "papermill": {
     "duration": 0.016986,
     "end_time": "2022-06-09T02:16:40.429898",
     "exception": false,
     "start_time": "2022-06-09T02:16:40.412912",
     "status": "completed"
    },
    "tags": []
   },
   "source": [
    "# Logistic Regression"
   ]
  },
  {
   "cell_type": "code",
   "execution_count": 36,
   "id": "223263e4",
   "metadata": {
    "execution": {
     "iopub.execute_input": "2022-06-09T02:16:40.466332Z",
     "iopub.status.busy": "2022-06-09T02:16:40.465946Z",
     "iopub.status.idle": "2022-06-09T02:16:40.547556Z",
     "shell.execute_reply": "2022-06-09T02:16:40.546528Z"
    },
    "papermill": {
     "duration": 0.102877,
     "end_time": "2022-06-09T02:16:40.550167",
     "exception": false,
     "start_time": "2022-06-09T02:16:40.447290",
     "status": "completed"
    },
    "tags": []
   },
   "outputs": [],
   "source": [
    "from sklearn.linear_model import LogisticRegression"
   ]
  },
  {
   "cell_type": "code",
   "execution_count": 37,
   "id": "c3ea2267",
   "metadata": {
    "execution": {
     "iopub.execute_input": "2022-06-09T02:16:40.588093Z",
     "iopub.status.busy": "2022-06-09T02:16:40.587465Z",
     "iopub.status.idle": "2022-06-09T02:16:40.591402Z",
     "shell.execute_reply": "2022-06-09T02:16:40.590766Z"
    },
    "papermill": {
     "duration": 0.025546,
     "end_time": "2022-06-09T02:16:40.593322",
     "exception": false,
     "start_time": "2022-06-09T02:16:40.567776",
     "status": "completed"
    },
    "tags": []
   },
   "outputs": [],
   "source": [
    "from sklearn.metrics import classification_report\n",
    "from sklearn.metrics import confusion_matrix"
   ]
  },
  {
   "cell_type": "code",
   "execution_count": 38,
   "id": "a52fb26c",
   "metadata": {
    "execution": {
     "iopub.execute_input": "2022-06-09T02:16:40.630529Z",
     "iopub.status.busy": "2022-06-09T02:16:40.629841Z",
     "iopub.status.idle": "2022-06-09T02:16:40.914301Z",
     "shell.execute_reply": "2022-06-09T02:16:40.913269Z"
    },
    "papermill": {
     "duration": 0.305913,
     "end_time": "2022-06-09T02:16:40.916694",
     "exception": false,
     "start_time": "2022-06-09T02:16:40.610781",
     "status": "completed"
    },
    "tags": []
   },
   "outputs": [
    {
     "name": "stdout",
     "output_type": "stream",
     "text": [
      "The accuracy for Logistic Regression is: 93.33333333333333 %\n",
      "\n",
      "The classification report for Logistic Regression is:\n",
      "              precision    recall  f1-score   support\n",
      "\n",
      "           0       1.00      1.00      1.00        15\n",
      "           1       0.88      0.93      0.90        15\n",
      "           2       0.93      0.87      0.90        15\n",
      "\n",
      "    accuracy                           0.93        45\n",
      "   macro avg       0.93      0.93      0.93        45\n",
      "weighted avg       0.93      0.93      0.93        45\n",
      "\n"
     ]
    },
    {
     "data": {
      "image/png": "[encoded data removed]",
      "text/plain": [
       "<Figure size 576x432 with 2 Axes>"
      ]
     },
     "metadata": {
      "needs_background": "light"
     },
     "output_type": "display_data"
    }
   ],
   "source": [
    "log = LogisticRegression()\n",
    "\n",
    "log.fit(X_train, y_train)\n",
    "y_pred = log.predict(X_test)\n",
    "acc_log = log.score(X_test, y_test)\n",
    "print(\"The accuracy for Logistic Regression is:\", acc_log * 100, \"%\")\n",
    "generate_results(log, y_pred, 'Logistic Regression')"
   ]
  },
  {
   "cell_type": "code",
   "execution_count": null,
   "id": "7d757f62",
   "metadata": {
    "papermill": {
     "duration": 0.017778,
     "end_time": "2022-06-09T02:16:40.953122",
     "exception": false,
     "start_time": "2022-06-09T02:16:40.935344",
     "status": "completed"
    },
    "tags": []
   },
   "outputs": [],
   "source": []
  }
 ],
 "metadata": {
  "kernelspec": {
   "display_name": "Python 3",
   "language": "python",
   "name": "python3"
  },
  "language_info": {
   "codemirror_mode": {
    "name": "ipython",
    "version": 3
   },
   "file_extension": ".py",
   "mimetype": "text/x-python",
   "name": "python",
   "nbconvert_exporter": "python",
   "pygments_lexer": "ipython3",
   "version": "3.7.12"
  },
  "papermill": {
   "default_parameters": {},
   "duration": 16.7,
   "end_time": "2022-06-09T02:16:41.792444",
   "environment_variables": {},
   "exception": null,
   "input_path": "__notebook__.ipynb",
   "output_path": "__notebook__.ipynb",
   "parameters": {},
   "start_time": "2022-06-09T02:16:25.092444",
   "version": "2.3.4"
  }
 },
 "nbformat": 4,
 "nbformat_minor": 5
}
