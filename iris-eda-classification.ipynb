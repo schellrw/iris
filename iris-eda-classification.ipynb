{
 "cells": [
  {
   "cell_type": "markdown",
   "id": "e5f22141",
   "metadata": {
    "papermill": {
     "duration": 0.008528,
     "end_time": "2022-06-08T01:13:49.447639",
     "exception": false,
     "start_time": "2022-06-08T01:13:49.439111",
     "status": "completed"
    },
    "tags": []
   },
   "source": [
    "# Simple iris flower dataset for exploration and classification"
   ]
  },
  {
   "cell_type": "code",
   "execution_count": 1,
   "id": "43defa94",
   "metadata": {
    "_cell_guid": "b1076dfc-b9ad-4769-8c92-a6c4dae69d19",
    "_uuid": "8f2839f25d086af736a60e9eeb907d3b93b6e0e5",
    "execution": {
     "iopub.execute_input": "2022-06-08T01:13:49.460299Z",
     "iopub.status.busy": "2022-06-08T01:13:49.459826Z",
     "iopub.status.idle": "2022-06-08T01:13:50.690159Z",
     "shell.execute_reply": "2022-06-08T01:13:50.689510Z"
    },
    "papermill": {
     "duration": 1.238988,
     "end_time": "2022-06-08T01:13:50.692227",
     "exception": false,
     "start_time": "2022-06-08T01:13:49.453239",
     "status": "completed"
    },
    "tags": []
   },
   "outputs": [],
   "source": [
    "import numpy as np \n",
    "import pandas as pd\n",
    "import matplotlib.pyplot as plt\n",
    "import seaborn as sns"
   ]
  },
  {
   "cell_type": "code",
   "execution_count": 2,
   "id": "50c7d246",
   "metadata": {
    "execution": {
     "iopub.execute_input": "2022-06-08T01:13:50.704297Z",
     "iopub.status.busy": "2022-06-08T01:13:50.703079Z",
     "iopub.status.idle": "2022-06-08T01:13:50.716935Z",
     "shell.execute_reply": "2022-06-08T01:13:50.716067Z"
    },
    "papermill": {
     "duration": 0.021849,
     "end_time": "2022-06-08T01:13:50.719105",
     "exception": false,
     "start_time": "2022-06-08T01:13:50.697256",
     "status": "completed"
    },
    "tags": []
   },
   "outputs": [
    {
     "name": "stdout",
     "output_type": "stream",
     "text": [
      "/kaggle/input/iris-flower-dataset/IRIS.csv\n"
     ]
    }
   ],
   "source": [
    "# Input data files are available in the read-only \"../input/\" directory\n",
    "# For example, running this (by clicking run or pressing Shift+Enter) will list all files under the input directory\n",
    "\n",
    "import os\n",
    "for dirname, _, filenames in os.walk('/kaggle/input'):\n",
    "    for filename in filenames:\n",
    "        print(os.path.join(dirname, filename))\n",
    "\n",
    "# You can write up to 20GB to the current directory (/kaggle/working/) that gets preserved as output when you create a version using \"Save & Run All\" \n",
    "# You can also write temporary files to /kaggle/temp/, but they won't be saved outside of the current session"
   ]
  },
  {
   "cell_type": "code",
   "execution_count": 3,
   "id": "ce0896f0",
   "metadata": {
    "execution": {
     "iopub.execute_input": "2022-06-08T01:13:50.739163Z",
     "iopub.status.busy": "2022-06-08T01:13:50.738776Z",
     "iopub.status.idle": "2022-06-08T01:13:50.755742Z",
     "shell.execute_reply": "2022-06-08T01:13:50.754743Z"
    },
    "papermill": {
     "duration": 0.029392,
     "end_time": "2022-06-08T01:13:50.758254",
     "exception": false,
     "start_time": "2022-06-08T01:13:50.728862",
     "status": "completed"
    },
    "tags": []
   },
   "outputs": [],
   "source": [
    "df = pd.read_csv('../input/iris-flower-dataset/IRIS.csv')"
   ]
  },
  {
   "cell_type": "code",
   "execution_count": 4,
   "id": "b495dde5",
   "metadata": {
    "execution": {
     "iopub.execute_input": "2022-06-08T01:13:50.777956Z",
     "iopub.status.busy": "2022-06-08T01:13:50.777580Z",
     "iopub.status.idle": "2022-06-08T01:13:50.804578Z",
     "shell.execute_reply": "2022-06-08T01:13:50.803939Z"
    },
    "papermill": {
     "duration": 0.039014,
     "end_time": "2022-06-08T01:13:50.806924",
     "exception": false,
     "start_time": "2022-06-08T01:13:50.767910",
     "status": "completed"
    },
    "tags": []
   },
   "outputs": [
    {
     "name": "stdout",
     "output_type": "stream",
     "text": [
      "<class 'pandas.core.frame.DataFrame'>\n",
      "RangeIndex: 150 entries, 0 to 149\n",
      "Data columns (total 5 columns):\n",
      " #   Column        Non-Null Count  Dtype  \n",
      "---  ------        --------------  -----  \n",
      " 0   sepal_length  150 non-null    float64\n",
      " 1   sepal_width   150 non-null    float64\n",
      " 2   petal_length  150 non-null    float64\n",
      " 3   petal_width   150 non-null    float64\n",
      " 4   species       150 non-null    object \n",
      "dtypes: float64(4), object(1)\n",
      "memory usage: 6.0+ KB\n"
     ]
    }
   ],
   "source": [
    "df.info()"
   ]
  },
  {
   "cell_type": "code",
   "execution_count": 5,
   "id": "a6f125c0",
   "metadata": {
    "execution": {
     "iopub.execute_input": "2022-06-08T01:13:50.818929Z",
     "iopub.status.busy": "2022-06-08T01:13:50.818228Z",
     "iopub.status.idle": "2022-06-08T01:13:50.857407Z",
     "shell.execute_reply": "2022-06-08T01:13:50.856624Z"
    },
    "papermill": {
     "duration": 0.046917,
     "end_time": "2022-06-08T01:13:50.859161",
     "exception": false,
     "start_time": "2022-06-08T01:13:50.812244",
     "status": "completed"
    },
    "tags": []
   },
   "outputs": [
    {
     "data": {
      "text/html": [
       "<div>\n",
       "<style scoped>\n",
       "    .dataframe tbody tr th:only-of-type {\n",
       "        vertical-align: middle;\n",
       "    }\n",
       "\n",
       "    .dataframe tbody tr th {\n",
       "        vertical-align: top;\n",
       "    }\n",
       "\n",
       "    .dataframe thead th {\n",
       "        text-align: right;\n",
       "    }\n",
       "</style>\n",
       "<table border=\"1\" class=\"dataframe\">\n",
       "  <thead>\n",
       "    <tr style=\"text-align: right;\">\n",
       "      <th></th>\n",
       "      <th>sepal_length</th>\n",
       "      <th>sepal_width</th>\n",
       "      <th>petal_length</th>\n",
       "      <th>petal_width</th>\n",
       "    </tr>\n",
       "  </thead>\n",
       "  <tbody>\n",
       "    <tr>\n",
       "      <th>count</th>\n",
       "      <td>150.000000</td>\n",
       "      <td>150.000000</td>\n",
       "      <td>150.000000</td>\n",
       "      <td>150.000000</td>\n",
       "    </tr>\n",
       "    <tr>\n",
       "      <th>mean</th>\n",
       "      <td>5.843333</td>\n",
       "      <td>3.054000</td>\n",
       "      <td>3.758667</td>\n",
       "      <td>1.198667</td>\n",
       "    </tr>\n",
       "    <tr>\n",
       "      <th>std</th>\n",
       "      <td>0.828066</td>\n",
       "      <td>0.433594</td>\n",
       "      <td>1.764420</td>\n",
       "      <td>0.763161</td>\n",
       "    </tr>\n",
       "    <tr>\n",
       "      <th>min</th>\n",
       "      <td>4.300000</td>\n",
       "      <td>2.000000</td>\n",
       "      <td>1.000000</td>\n",
       "      <td>0.100000</td>\n",
       "    </tr>\n",
       "    <tr>\n",
       "      <th>25%</th>\n",
       "      <td>5.100000</td>\n",
       "      <td>2.800000</td>\n",
       "      <td>1.600000</td>\n",
       "      <td>0.300000</td>\n",
       "    </tr>\n",
       "    <tr>\n",
       "      <th>50%</th>\n",
       "      <td>5.800000</td>\n",
       "      <td>3.000000</td>\n",
       "      <td>4.350000</td>\n",
       "      <td>1.300000</td>\n",
       "    </tr>\n",
       "    <tr>\n",
       "      <th>75%</th>\n",
       "      <td>6.400000</td>\n",
       "      <td>3.300000</td>\n",
       "      <td>5.100000</td>\n",
       "      <td>1.800000</td>\n",
       "    </tr>\n",
       "    <tr>\n",
       "      <th>max</th>\n",
       "      <td>7.900000</td>\n",
       "      <td>4.400000</td>\n",
       "      <td>6.900000</td>\n",
       "      <td>2.500000</td>\n",
       "    </tr>\n",
       "  </tbody>\n",
       "</table>\n",
       "</div>"
      ],
      "text/plain": [
       "       sepal_length  sepal_width  petal_length  petal_width\n",
       "count    150.000000   150.000000    150.000000   150.000000\n",
       "mean       5.843333     3.054000      3.758667     1.198667\n",
       "std        0.828066     0.433594      1.764420     0.763161\n",
       "min        4.300000     2.000000      1.000000     0.100000\n",
       "25%        5.100000     2.800000      1.600000     0.300000\n",
       "50%        5.800000     3.000000      4.350000     1.300000\n",
       "75%        6.400000     3.300000      5.100000     1.800000\n",
       "max        7.900000     4.400000      6.900000     2.500000"
      ]
     },
     "execution_count": 5,
     "metadata": {},
     "output_type": "execute_result"
    }
   ],
   "source": [
    "df.describe()"
   ]
  },
  {
   "cell_type": "code",
   "execution_count": 6,
   "id": "8341b5c6",
   "metadata": {
    "execution": {
     "iopub.execute_input": "2022-06-08T01:13:50.871611Z",
     "iopub.status.busy": "2022-06-08T01:13:50.870646Z",
     "iopub.status.idle": "2022-06-08T01:13:50.885109Z",
     "shell.execute_reply": "2022-06-08T01:13:50.883706Z"
    },
    "papermill": {
     "duration": 0.022378,
     "end_time": "2022-06-08T01:13:50.887004",
     "exception": false,
     "start_time": "2022-06-08T01:13:50.864626",
     "status": "completed"
    },
    "tags": []
   },
   "outputs": [
    {
     "data": {
      "text/html": [
       "<div>\n",
       "<style scoped>\n",
       "    .dataframe tbody tr th:only-of-type {\n",
       "        vertical-align: middle;\n",
       "    }\n",
       "\n",
       "    .dataframe tbody tr th {\n",
       "        vertical-align: top;\n",
       "    }\n",
       "\n",
       "    .dataframe thead th {\n",
       "        text-align: right;\n",
       "    }\n",
       "</style>\n",
       "<table border=\"1\" class=\"dataframe\">\n",
       "  <thead>\n",
       "    <tr style=\"text-align: right;\">\n",
       "      <th></th>\n",
       "      <th>sepal_length</th>\n",
       "      <th>sepal_width</th>\n",
       "      <th>petal_length</th>\n",
       "      <th>petal_width</th>\n",
       "      <th>species</th>\n",
       "    </tr>\n",
       "  </thead>\n",
       "  <tbody>\n",
       "    <tr>\n",
       "      <th>0</th>\n",
       "      <td>5.1</td>\n",
       "      <td>3.5</td>\n",
       "      <td>1.4</td>\n",
       "      <td>0.2</td>\n",
       "      <td>Iris-setosa</td>\n",
       "    </tr>\n",
       "    <tr>\n",
       "      <th>1</th>\n",
       "      <td>4.9</td>\n",
       "      <td>3.0</td>\n",
       "      <td>1.4</td>\n",
       "      <td>0.2</td>\n",
       "      <td>Iris-setosa</td>\n",
       "    </tr>\n",
       "    <tr>\n",
       "      <th>2</th>\n",
       "      <td>4.7</td>\n",
       "      <td>3.2</td>\n",
       "      <td>1.3</td>\n",
       "      <td>0.2</td>\n",
       "      <td>Iris-setosa</td>\n",
       "    </tr>\n",
       "    <tr>\n",
       "      <th>3</th>\n",
       "      <td>4.6</td>\n",
       "      <td>3.1</td>\n",
       "      <td>1.5</td>\n",
       "      <td>0.2</td>\n",
       "      <td>Iris-setosa</td>\n",
       "    </tr>\n",
       "    <tr>\n",
       "      <th>4</th>\n",
       "      <td>5.0</td>\n",
       "      <td>3.6</td>\n",
       "      <td>1.4</td>\n",
       "      <td>0.2</td>\n",
       "      <td>Iris-setosa</td>\n",
       "    </tr>\n",
       "  </tbody>\n",
       "</table>\n",
       "</div>"
      ],
      "text/plain": [
       "   sepal_length  sepal_width  petal_length  petal_width      species\n",
       "0           5.1          3.5           1.4          0.2  Iris-setosa\n",
       "1           4.9          3.0           1.4          0.2  Iris-setosa\n",
       "2           4.7          3.2           1.3          0.2  Iris-setosa\n",
       "3           4.6          3.1           1.5          0.2  Iris-setosa\n",
       "4           5.0          3.6           1.4          0.2  Iris-setosa"
      ]
     },
     "execution_count": 6,
     "metadata": {},
     "output_type": "execute_result"
    }
   ],
   "source": [
    "df.head()"
   ]
  },
  {
   "cell_type": "code",
   "execution_count": 7,
   "id": "b79023c2",
   "metadata": {
    "execution": {
     "iopub.execute_input": "2022-06-08T01:13:50.899846Z",
     "iopub.status.busy": "2022-06-08T01:13:50.899455Z",
     "iopub.status.idle": "2022-06-08T01:13:50.913627Z",
     "shell.execute_reply": "2022-06-08T01:13:50.912819Z"
    },
    "papermill": {
     "duration": 0.022876,
     "end_time": "2022-06-08T01:13:50.915518",
     "exception": false,
     "start_time": "2022-06-08T01:13:50.892642",
     "status": "completed"
    },
    "tags": []
   },
   "outputs": [
    {
     "data": {
      "text/html": [
       "<div>\n",
       "<style scoped>\n",
       "    .dataframe tbody tr th:only-of-type {\n",
       "        vertical-align: middle;\n",
       "    }\n",
       "\n",
       "    .dataframe tbody tr th {\n",
       "        vertical-align: top;\n",
       "    }\n",
       "\n",
       "    .dataframe thead th {\n",
       "        text-align: right;\n",
       "    }\n",
       "</style>\n",
       "<table border=\"1\" class=\"dataframe\">\n",
       "  <thead>\n",
       "    <tr style=\"text-align: right;\">\n",
       "      <th></th>\n",
       "      <th>sepal_length</th>\n",
       "      <th>sepal_width</th>\n",
       "      <th>petal_length</th>\n",
       "      <th>petal_width</th>\n",
       "      <th>species</th>\n",
       "    </tr>\n",
       "  </thead>\n",
       "  <tbody>\n",
       "    <tr>\n",
       "      <th>145</th>\n",
       "      <td>6.7</td>\n",
       "      <td>3.0</td>\n",
       "      <td>5.2</td>\n",
       "      <td>2.3</td>\n",
       "      <td>Iris-virginica</td>\n",
       "    </tr>\n",
       "    <tr>\n",
       "      <th>146</th>\n",
       "      <td>6.3</td>\n",
       "      <td>2.5</td>\n",
       "      <td>5.0</td>\n",
       "      <td>1.9</td>\n",
       "      <td>Iris-virginica</td>\n",
       "    </tr>\n",
       "    <tr>\n",
       "      <th>147</th>\n",
       "      <td>6.5</td>\n",
       "      <td>3.0</td>\n",
       "      <td>5.2</td>\n",
       "      <td>2.0</td>\n",
       "      <td>Iris-virginica</td>\n",
       "    </tr>\n",
       "    <tr>\n",
       "      <th>148</th>\n",
       "      <td>6.2</td>\n",
       "      <td>3.4</td>\n",
       "      <td>5.4</td>\n",
       "      <td>2.3</td>\n",
       "      <td>Iris-virginica</td>\n",
       "    </tr>\n",
       "    <tr>\n",
       "      <th>149</th>\n",
       "      <td>5.9</td>\n",
       "      <td>3.0</td>\n",
       "      <td>5.1</td>\n",
       "      <td>1.8</td>\n",
       "      <td>Iris-virginica</td>\n",
       "    </tr>\n",
       "  </tbody>\n",
       "</table>\n",
       "</div>"
      ],
      "text/plain": [
       "     sepal_length  sepal_width  petal_length  petal_width         species\n",
       "145           6.7          3.0           5.2          2.3  Iris-virginica\n",
       "146           6.3          2.5           5.0          1.9  Iris-virginica\n",
       "147           6.5          3.0           5.2          2.0  Iris-virginica\n",
       "148           6.2          3.4           5.4          2.3  Iris-virginica\n",
       "149           5.9          3.0           5.1          1.8  Iris-virginica"
      ]
     },
     "execution_count": 7,
     "metadata": {},
     "output_type": "execute_result"
    }
   ],
   "source": [
    "df.tail()"
   ]
  },
  {
   "cell_type": "code",
   "execution_count": 8,
   "id": "2f0f0af4",
   "metadata": {
    "execution": {
     "iopub.execute_input": "2022-06-08T01:13:50.935859Z",
     "iopub.status.busy": "2022-06-08T01:13:50.935479Z",
     "iopub.status.idle": "2022-06-08T01:13:50.944313Z",
     "shell.execute_reply": "2022-06-08T01:13:50.943119Z"
    },
    "papermill": {
     "duration": 0.021434,
     "end_time": "2022-06-08T01:13:50.946431",
     "exception": false,
     "start_time": "2022-06-08T01:13:50.924997",
     "status": "completed"
    },
    "tags": []
   },
   "outputs": [
    {
     "data": {
      "text/plain": [
       "Iris-setosa        50\n",
       "Iris-versicolor    50\n",
       "Iris-virginica     50\n",
       "Name: species, dtype: int64"
      ]
     },
     "execution_count": 8,
     "metadata": {},
     "output_type": "execute_result"
    }
   ],
   "source": [
    "df['species'].value_counts()"
   ]
  },
  {
   "cell_type": "code",
   "execution_count": 9,
   "id": "c540b06f",
   "metadata": {
    "execution": {
     "iopub.execute_input": "2022-06-08T01:13:50.966905Z",
     "iopub.status.busy": "2022-06-08T01:13:50.966515Z",
     "iopub.status.idle": "2022-06-08T01:13:51.387691Z",
     "shell.execute_reply": "2022-06-08T01:13:51.386947Z"
    },
    "papermill": {
     "duration": 0.433434,
     "end_time": "2022-06-08T01:13:51.389273",
     "exception": false,
     "start_time": "2022-06-08T01:13:50.955839",
     "status": "completed"
    },
    "tags": []
   },
   "outputs": [
    {
     "data": {
      "text/plain": [
       "<seaborn.axisgrid.FacetGrid at 0x7f7913228690>"
      ]
     },
     "execution_count": 9,
     "metadata": {},
     "output_type": "execute_result"
    },
    {
     "data": {
      "image/png": "[encoded data removed]",
      "text/plain": [
       "<Figure size 823.25x720 with 1 Axes>"
      ]
     },
     "metadata": {
      "needs_background": "light"
     },
     "output_type": "display_data"
    }
   ],
   "source": [
    "# scatter plot of sepal length by sepal width\n",
    "sns.FacetGrid(df, hue= 'species', height = 10) \\\n",
    "   .map(plt.scatter, 'sepal_length', 'sepal_width') \\\n",
    "   .add_legend()"
   ]
  },
  {
   "cell_type": "markdown",
   "id": "be0f134a",
   "metadata": {
    "papermill": {
     "duration": 0.006913,
     "end_time": "2022-06-08T01:13:51.403048",
     "exception": false,
     "start_time": "2022-06-08T01:13:51.396135",
     "status": "completed"
    },
    "tags": []
   },
   "source": [
    "## For the setosa species, the sepal length is usually much shorter than the other 2 species.\n",
    "## Additionally, the versicolor and virginica species have a lot of overlap with these 2 variables."
   ]
  },
  {
   "cell_type": "code",
   "execution_count": 10,
   "id": "0420f620",
   "metadata": {
    "execution": {
     "iopub.execute_input": "2022-06-08T01:13:51.418986Z",
     "iopub.status.busy": "2022-06-08T01:13:51.418474Z",
     "iopub.status.idle": "2022-06-08T01:13:51.766579Z",
     "shell.execute_reply": "2022-06-08T01:13:51.765735Z"
    },
    "papermill": {
     "duration": 0.3586,
     "end_time": "2022-06-08T01:13:51.768586",
     "exception": false,
     "start_time": "2022-06-08T01:13:51.409986",
     "status": "completed"
    },
    "tags": []
   },
   "outputs": [
    {
     "data": {
      "text/plain": [
       "<seaborn.axisgrid.FacetGrid at 0x7f79110a7c50>"
      ]
     },
     "execution_count": 10,
     "metadata": {},
     "output_type": "execute_result"
    },
    {
     "data": {
      "image/png": "[encoded data removed]",
      "text/plain": [
       "<Figure size 823.25x720 with 1 Axes>"
      ]
     },
     "metadata": {
      "needs_background": "light"
     },
     "output_type": "display_data"
    }
   ],
   "source": [
    "# scatter plot of petal length by petal width\n",
    "sns.FacetGrid(df, hue= 'species', height = 10) \\\n",
    "   .map(plt.scatter, 'petal_length', 'petal_width') \\\n",
    "   .add_legend()"
   ]
  },
  {
   "cell_type": "markdown",
   "id": "ca42a361",
   "metadata": {
    "papermill": {
     "duration": 0.010731,
     "end_time": "2022-06-08T01:13:51.790761",
     "exception": false,
     "start_time": "2022-06-08T01:13:51.780030",
     "status": "completed"
    },
    "tags": []
   },
   "source": [
    "## There is now a lot of separation between the species.  The setosa species has the smallets petals,\n",
    "## followed by the versicolor and virginica that have the largest petals."
   ]
  },
  {
   "cell_type": "code",
   "execution_count": 11,
   "id": "b59a2520",
   "metadata": {
    "execution": {
     "iopub.execute_input": "2022-06-08T01:13:51.814633Z",
     "iopub.status.busy": "2022-06-08T01:13:51.814139Z",
     "iopub.status.idle": "2022-06-08T01:13:52.344851Z",
     "shell.execute_reply": "2022-06-08T01:13:52.343794Z"
    },
    "papermill": {
     "duration": 0.545046,
     "end_time": "2022-06-08T01:13:52.346825",
     "exception": false,
     "start_time": "2022-06-08T01:13:51.801779",
     "status": "completed"
    },
    "tags": []
   },
   "outputs": [
    {
     "data": {
      "text/plain": [
       "<AxesSubplot:xlabel='species', ylabel='sepal_width'>"
      ]
     },
     "execution_count": 11,
     "metadata": {},
     "output_type": "execute_result"
    },
    {
     "data": {
      "image/png": "[encoded data removed]",
      "text/plain": [
       "<Figure size 1152x864 with 4 Axes>"
      ]
     },
     "metadata": {
      "needs_background": "light"
     },
     "output_type": "display_data"
    }
   ],
   "source": [
    "# Look at boxplots of the data.\n",
    "plt.figure(figsize=(16,12))\n",
    "plt.subplot(2,2,1)\n",
    "sns.boxplot(x='species',y='petal_length',data=df)\n",
    "plt.subplot(2,2,2)\n",
    "sns.boxplot(x='species',y='petal_width',data=df)\n",
    "plt.subplot(2,2,3)\n",
    "sns.boxplot(x='species',y='sepal_length',data=df)\n",
    "plt.subplot(2,2,4)\n",
    "sns.boxplot(x='species',y='sepal_width',data=df)"
   ]
  },
  {
   "cell_type": "markdown",
   "id": "2afe0043",
   "metadata": {
    "papermill": {
     "duration": 0.011482,
     "end_time": "2022-06-08T01:13:52.370066",
     "exception": false,
     "start_time": "2022-06-08T01:13:52.358584",
     "status": "completed"
    },
    "tags": []
   },
   "source": [
    "## May be easier to see the trends across species by the 4 variables with 4 boxplots."
   ]
  },
  {
   "cell_type": "markdown",
   "id": "cccb2d33",
   "metadata": {
    "papermill": {
     "duration": 0.011505,
     "end_time": "2022-06-08T01:13:52.393775",
     "exception": false,
     "start_time": "2022-06-08T01:13:52.382270",
     "status": "completed"
    },
    "tags": []
   },
   "source": [
    "## Create some features"
   ]
  },
  {
   "cell_type": "code",
   "execution_count": 12,
   "id": "3e678658",
   "metadata": {
    "execution": {
     "iopub.execute_input": "2022-06-08T01:13:52.418691Z",
     "iopub.status.busy": "2022-06-08T01:13:52.418360Z",
     "iopub.status.idle": "2022-06-08T01:13:52.421999Z",
     "shell.execute_reply": "2022-06-08T01:13:52.421396Z"
    },
    "papermill": {
     "duration": 0.018085,
     "end_time": "2022-06-08T01:13:52.423726",
     "exception": false,
     "start_time": "2022-06-08T01:13:52.405641",
     "status": "completed"
    },
    "tags": []
   },
   "outputs": [],
   "source": [
    "# categorize flowers as small (0), medium (1), or big (2)"
   ]
  },
  {
   "cell_type": "code",
   "execution_count": 13,
   "id": "dc1d6614",
   "metadata": {
    "execution": {
     "iopub.execute_input": "2022-06-08T01:13:52.449226Z",
     "iopub.status.busy": "2022-06-08T01:13:52.448497Z",
     "iopub.status.idle": "2022-06-08T01:13:52.461885Z",
     "shell.execute_reply": "2022-06-08T01:13:52.461032Z"
    },
    "papermill": {
     "duration": 0.02864,
     "end_time": "2022-06-08T01:13:52.464083",
     "exception": false,
     "start_time": "2022-06-08T01:13:52.435443",
     "status": "completed"
    },
    "tags": []
   },
   "outputs": [
    {
     "data": {
      "text/html": [
       "<div>\n",
       "<style scoped>\n",
       "    .dataframe tbody tr th:only-of-type {\n",
       "        vertical-align: middle;\n",
       "    }\n",
       "\n",
       "    .dataframe tbody tr th {\n",
       "        vertical-align: top;\n",
       "    }\n",
       "\n",
       "    .dataframe thead th {\n",
       "        text-align: right;\n",
       "    }\n",
       "</style>\n",
       "<table border=\"1\" class=\"dataframe\">\n",
       "  <thead>\n",
       "    <tr style=\"text-align: right;\">\n",
       "      <th></th>\n",
       "      <th>sepal_length</th>\n",
       "      <th>sepal_width</th>\n",
       "      <th>petal_length</th>\n",
       "      <th>petal_width</th>\n",
       "      <th>species</th>\n",
       "    </tr>\n",
       "  </thead>\n",
       "  <tbody>\n",
       "    <tr>\n",
       "      <th>0</th>\n",
       "      <td>5.1</td>\n",
       "      <td>3.5</td>\n",
       "      <td>1.4</td>\n",
       "      <td>0.2</td>\n",
       "      <td>Iris-setosa</td>\n",
       "    </tr>\n",
       "    <tr>\n",
       "      <th>1</th>\n",
       "      <td>4.9</td>\n",
       "      <td>3.0</td>\n",
       "      <td>1.4</td>\n",
       "      <td>0.2</td>\n",
       "      <td>Iris-setosa</td>\n",
       "    </tr>\n",
       "    <tr>\n",
       "      <th>2</th>\n",
       "      <td>4.7</td>\n",
       "      <td>3.2</td>\n",
       "      <td>1.3</td>\n",
       "      <td>0.2</td>\n",
       "      <td>Iris-setosa</td>\n",
       "    </tr>\n",
       "    <tr>\n",
       "      <th>3</th>\n",
       "      <td>4.6</td>\n",
       "      <td>3.1</td>\n",
       "      <td>1.5</td>\n",
       "      <td>0.2</td>\n",
       "      <td>Iris-setosa</td>\n",
       "    </tr>\n",
       "    <tr>\n",
       "      <th>4</th>\n",
       "      <td>5.0</td>\n",
       "      <td>3.6</td>\n",
       "      <td>1.4</td>\n",
       "      <td>0.2</td>\n",
       "      <td>Iris-setosa</td>\n",
       "    </tr>\n",
       "  </tbody>\n",
       "</table>\n",
       "</div>"
      ],
      "text/plain": [
       "   sepal_length  sepal_width  petal_length  petal_width      species\n",
       "0           5.1          3.5           1.4          0.2  Iris-setosa\n",
       "1           4.9          3.0           1.4          0.2  Iris-setosa\n",
       "2           4.7          3.2           1.3          0.2  Iris-setosa\n",
       "3           4.6          3.1           1.5          0.2  Iris-setosa\n",
       "4           5.0          3.6           1.4          0.2  Iris-setosa"
      ]
     },
     "execution_count": 13,
     "metadata": {},
     "output_type": "execute_result"
    }
   ],
   "source": [
    "df.head()"
   ]
  },
  {
   "cell_type": "code",
   "execution_count": 14,
   "id": "74ab145e",
   "metadata": {
    "execution": {
     "iopub.execute_input": "2022-06-08T01:13:52.489360Z",
     "iopub.status.busy": "2022-06-08T01:13:52.488989Z",
     "iopub.status.idle": "2022-06-08T01:13:52.497743Z",
     "shell.execute_reply": "2022-06-08T01:13:52.496578Z"
    },
    "papermill": {
     "duration": 0.02372,
     "end_time": "2022-06-08T01:13:52.499751",
     "exception": false,
     "start_time": "2022-06-08T01:13:52.476031",
     "status": "completed"
    },
    "tags": []
   },
   "outputs": [
    {
     "data": {
      "text/plain": [
       "count    150.000000\n",
       "mean       5.843333\n",
       "std        0.828066\n",
       "min        4.300000\n",
       "25%        5.100000\n",
       "50%        5.800000\n",
       "75%        6.400000\n",
       "max        7.900000\n",
       "Name: sepal_length, dtype: float64"
      ]
     },
     "execution_count": 14,
     "metadata": {},
     "output_type": "execute_result"
    }
   ],
   "source": [
    "df['sepal_length'].describe()"
   ]
  },
  {
   "cell_type": "code",
   "execution_count": 15,
   "id": "810b6e02",
   "metadata": {
    "execution": {
     "iopub.execute_input": "2022-06-08T01:13:52.525408Z",
     "iopub.status.busy": "2022-06-08T01:13:52.525014Z",
     "iopub.status.idle": "2022-06-08T01:13:52.543890Z",
     "shell.execute_reply": "2022-06-08T01:13:52.543058Z"
    },
    "papermill": {
     "duration": 0.034118,
     "end_time": "2022-06-08T01:13:52.545846",
     "exception": false,
     "start_time": "2022-06-08T01:13:52.511728",
     "status": "completed"
    },
    "tags": []
   },
   "outputs": [
    {
     "name": "stdout",
     "output_type": "stream",
     "text": [
      "0      (4.296, 5.5]\n",
      "1      (4.296, 5.5]\n",
      "2      (4.296, 5.5]\n",
      "3      (4.296, 5.5]\n",
      "4      (4.296, 5.5]\n",
      "           ...     \n",
      "145      (5.5, 6.7]\n",
      "146      (5.5, 6.7]\n",
      "147      (5.5, 6.7]\n",
      "148      (5.5, 6.7]\n",
      "149      (5.5, 6.7]\n",
      "Name: sepal_length_CAT, Length: 150, dtype: category\n",
      "Categories (3, interval[float64, right]): [(4.296, 5.5] < (5.5, 6.7] < (6.7, 7.9]]\n"
     ]
    }
   ],
   "source": [
    "df['sepal_length_CAT'] = pd.cut(df['sepal_length'], 3)\n",
    "print(df['sepal_length_CAT'])"
   ]
  },
  {
   "cell_type": "code",
   "execution_count": 16,
   "id": "1cc68244",
   "metadata": {
    "execution": {
     "iopub.execute_input": "2022-06-08T01:13:52.565213Z",
     "iopub.status.busy": "2022-06-08T01:13:52.564722Z",
     "iopub.status.idle": "2022-06-08T01:13:52.574640Z",
     "shell.execute_reply": "2022-06-08T01:13:52.573783Z"
    },
    "papermill": {
     "duration": 0.020558,
     "end_time": "2022-06-08T01:13:52.576179",
     "exception": false,
     "start_time": "2022-06-08T01:13:52.555621",
     "status": "completed"
    },
    "tags": []
   },
   "outputs": [
    {
     "data": {
      "text/plain": [
       "count    150.000000\n",
       "mean       3.054000\n",
       "std        0.433594\n",
       "min        2.000000\n",
       "25%        2.800000\n",
       "50%        3.000000\n",
       "75%        3.300000\n",
       "max        4.400000\n",
       "Name: sepal_width, dtype: float64"
      ]
     },
     "execution_count": 16,
     "metadata": {},
     "output_type": "execute_result"
    }
   ],
   "source": [
    "df['sepal_width'].describe()"
   ]
  },
  {
   "cell_type": "code",
   "execution_count": 17,
   "id": "6607e53b",
   "metadata": {
    "execution": {
     "iopub.execute_input": "2022-06-08T01:13:52.594440Z",
     "iopub.status.busy": "2022-06-08T01:13:52.594049Z",
     "iopub.status.idle": "2022-06-08T01:13:52.606355Z",
     "shell.execute_reply": "2022-06-08T01:13:52.604786Z"
    },
    "papermill": {
     "duration": 0.023821,
     "end_time": "2022-06-08T01:13:52.608337",
     "exception": false,
     "start_time": "2022-06-08T01:13:52.584516",
     "status": "completed"
    },
    "tags": []
   },
   "outputs": [
    {
     "name": "stdout",
     "output_type": "stream",
     "text": [
      "0        (2.8, 3.6]\n",
      "1        (2.8, 3.6]\n",
      "2        (2.8, 3.6]\n",
      "3        (2.8, 3.6]\n",
      "4        (2.8, 3.6]\n",
      "           ...     \n",
      "145      (2.8, 3.6]\n",
      "146    (1.998, 2.8]\n",
      "147      (2.8, 3.6]\n",
      "148      (2.8, 3.6]\n",
      "149      (2.8, 3.6]\n",
      "Name: sepal_width_CAT, Length: 150, dtype: category\n",
      "Categories (3, interval[float64, right]): [(1.998, 2.8] < (2.8, 3.6] < (3.6, 4.4]]\n"
     ]
    }
   ],
   "source": [
    "df['sepal_width_CAT'] = pd.cut(df['sepal_width'], 3)\n",
    "print(df['sepal_width_CAT'])"
   ]
  },
  {
   "cell_type": "code",
   "execution_count": 18,
   "id": "e92449b4",
   "metadata": {
    "execution": {
     "iopub.execute_input": "2022-06-08T01:13:52.635778Z",
     "iopub.status.busy": "2022-06-08T01:13:52.635449Z",
     "iopub.status.idle": "2022-06-08T01:13:52.644394Z",
     "shell.execute_reply": "2022-06-08T01:13:52.643495Z"
    },
    "papermill": {
     "duration": 0.025061,
     "end_time": "2022-06-08T01:13:52.646342",
     "exception": false,
     "start_time": "2022-06-08T01:13:52.621281",
     "status": "completed"
    },
    "tags": []
   },
   "outputs": [
    {
     "data": {
      "text/plain": [
       "count    150.000000\n",
       "mean       3.758667\n",
       "std        1.764420\n",
       "min        1.000000\n",
       "25%        1.600000\n",
       "50%        4.350000\n",
       "75%        5.100000\n",
       "max        6.900000\n",
       "Name: petal_length, dtype: float64"
      ]
     },
     "execution_count": 18,
     "metadata": {},
     "output_type": "execute_result"
    }
   ],
   "source": [
    "df['petal_length'].describe()"
   ]
  },
  {
   "cell_type": "code",
   "execution_count": 19,
   "id": "16e62543",
   "metadata": {
    "execution": {
     "iopub.execute_input": "2022-06-08T01:13:52.673964Z",
     "iopub.status.busy": "2022-06-08T01:13:52.673659Z",
     "iopub.status.idle": "2022-06-08T01:13:52.682375Z",
     "shell.execute_reply": "2022-06-08T01:13:52.681274Z"
    },
    "papermill": {
     "duration": 0.025332,
     "end_time": "2022-06-08T01:13:52.684707",
     "exception": false,
     "start_time": "2022-06-08T01:13:52.659375",
     "status": "completed"
    },
    "tags": []
   },
   "outputs": [
    {
     "name": "stdout",
     "output_type": "stream",
     "text": [
      "0      (0.994, 2.967]\n",
      "1      (0.994, 2.967]\n",
      "2      (0.994, 2.967]\n",
      "3      (0.994, 2.967]\n",
      "4      (0.994, 2.967]\n",
      "            ...      \n",
      "145      (4.933, 6.9]\n",
      "146      (4.933, 6.9]\n",
      "147      (4.933, 6.9]\n",
      "148      (4.933, 6.9]\n",
      "149      (4.933, 6.9]\n",
      "Name: petal_length_CAT, Length: 150, dtype: category\n",
      "Categories (3, interval[float64, right]): [(0.994, 2.967] < (2.967, 4.933] < (4.933, 6.9]]\n"
     ]
    }
   ],
   "source": [
    "df['petal_length_CAT'] = pd.cut(df['petal_length'], 3)\n",
    "print(df['petal_length_CAT'])"
   ]
  },
  {
   "cell_type": "code",
   "execution_count": 20,
   "id": "bc11344f",
   "metadata": {
    "execution": {
     "iopub.execute_input": "2022-06-08T01:13:52.712618Z",
     "iopub.status.busy": "2022-06-08T01:13:52.712304Z",
     "iopub.status.idle": "2022-06-08T01:13:52.721157Z",
     "shell.execute_reply": "2022-06-08T01:13:52.720249Z"
    },
    "papermill": {
     "duration": 0.025246,
     "end_time": "2022-06-08T01:13:52.723235",
     "exception": false,
     "start_time": "2022-06-08T01:13:52.697989",
     "status": "completed"
    },
    "tags": []
   },
   "outputs": [
    {
     "data": {
      "text/plain": [
       "count    150.000000\n",
       "mean       1.198667\n",
       "std        0.763161\n",
       "min        0.100000\n",
       "25%        0.300000\n",
       "50%        1.300000\n",
       "75%        1.800000\n",
       "max        2.500000\n",
       "Name: petal_width, dtype: float64"
      ]
     },
     "execution_count": 20,
     "metadata": {},
     "output_type": "execute_result"
    }
   ],
   "source": [
    "df['petal_width'].describe()"
   ]
  },
  {
   "cell_type": "code",
   "execution_count": 21,
   "id": "69608caa",
   "metadata": {
    "execution": {
     "iopub.execute_input": "2022-06-08T01:13:52.752550Z",
     "iopub.status.busy": "2022-06-08T01:13:52.752220Z",
     "iopub.status.idle": "2022-06-08T01:13:52.762249Z",
     "shell.execute_reply": "2022-06-08T01:13:52.761402Z"
    },
    "papermill": {
     "duration": 0.027277,
     "end_time": "2022-06-08T01:13:52.764307",
     "exception": false,
     "start_time": "2022-06-08T01:13:52.737030",
     "status": "completed"
    },
    "tags": []
   },
   "outputs": [
    {
     "name": "stdout",
     "output_type": "stream",
     "text": [
      "0      (0.0976, 0.9]\n",
      "1      (0.0976, 0.9]\n",
      "2      (0.0976, 0.9]\n",
      "3      (0.0976, 0.9]\n",
      "4      (0.0976, 0.9]\n",
      "           ...      \n",
      "145       (1.7, 2.5]\n",
      "146       (1.7, 2.5]\n",
      "147       (1.7, 2.5]\n",
      "148       (1.7, 2.5]\n",
      "149       (1.7, 2.5]\n",
      "Name: petal_width_CAT, Length: 150, dtype: category\n",
      "Categories (3, interval[float64, right]): [(0.0976, 0.9] < (0.9, 1.7] < (1.7, 2.5]]\n"
     ]
    }
   ],
   "source": [
    "df['petal_width_CAT'] = pd.cut(df['petal_width'], 3)\n",
    "print(df['petal_width_CAT'])"
   ]
  },
  {
   "cell_type": "code",
   "execution_count": null,
   "id": "116dcf74",
   "metadata": {
    "papermill": {
     "duration": 0.013159,
     "end_time": "2022-06-08T01:13:52.791803",
     "exception": false,
     "start_time": "2022-06-08T01:13:52.778644",
     "status": "completed"
    },
    "tags": []
   },
   "outputs": [],
   "source": []
  },
  {
   "cell_type": "code",
   "execution_count": null,
   "id": "20a4881d",
   "metadata": {
    "papermill": {
     "duration": 0.012623,
     "end_time": "2022-06-08T01:13:52.817544",
     "exception": false,
     "start_time": "2022-06-08T01:13:52.804921",
     "status": "completed"
    },
    "tags": []
   },
   "outputs": [],
   "source": []
  },
  {
   "cell_type": "code",
   "execution_count": null,
   "id": "32beb5c3",
   "metadata": {
    "papermill": {
     "duration": 0.013647,
     "end_time": "2022-06-08T01:13:52.844131",
     "exception": false,
     "start_time": "2022-06-08T01:13:52.830484",
     "status": "completed"
    },
    "tags": []
   },
   "outputs": [],
   "source": []
  },
  {
   "cell_type": "code",
   "execution_count": null,
   "id": "40cbd611",
   "metadata": {
    "papermill": {
     "duration": 0.012899,
     "end_time": "2022-06-08T01:13:52.871082",
     "exception": false,
     "start_time": "2022-06-08T01:13:52.858183",
     "status": "completed"
    },
    "tags": []
   },
   "outputs": [],
   "source": []
  },
  {
   "cell_type": "code",
   "execution_count": null,
   "id": "c1be9f93",
   "metadata": {
    "papermill": {
     "duration": 0.008782,
     "end_time": "2022-06-08T01:13:52.888785",
     "exception": false,
     "start_time": "2022-06-08T01:13:52.880003",
     "status": "completed"
    },
    "tags": []
   },
   "outputs": [],
   "source": []
  },
  {
   "cell_type": "code",
   "execution_count": null,
   "id": "f4d601dc",
   "metadata": {
    "papermill": {
     "duration": 0.008509,
     "end_time": "2022-06-08T01:13:52.906268",
     "exception": false,
     "start_time": "2022-06-08T01:13:52.897759",
     "status": "completed"
    },
    "tags": []
   },
   "outputs": [],
   "source": []
  }
 ],
 "metadata": {
  "kernelspec": {
   "display_name": "Python 3",
   "language": "python",
   "name": "python3"
  },
  "language_info": {
   "codemirror_mode": {
    "name": "ipython",
    "version": 3
   },
   "file_extension": ".py",
   "mimetype": "text/x-python",
   "name": "python",
   "nbconvert_exporter": "python",
   "pygments_lexer": "ipython3",
   "version": "3.7.12"
  },
  "papermill": {
   "default_parameters": {},
   "duration": 15.713227,
   "end_time": "2022-06-08T01:13:53.937249",
   "environment_variables": {},
   "exception": null,
   "input_path": "__notebook__.ipynb",
   "output_path": "__notebook__.ipynb",
   "parameters": {},
   "start_time": "2022-06-08T01:13:38.224022",
   "version": "2.3.4"
  }
 },
 "nbformat": 4,
 "nbformat_minor": 5
}
